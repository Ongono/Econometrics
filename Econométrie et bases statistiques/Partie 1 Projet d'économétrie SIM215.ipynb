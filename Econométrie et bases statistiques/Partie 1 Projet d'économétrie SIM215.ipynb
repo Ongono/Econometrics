{
 "cells": [
  {
   "cell_type": "markdown",
   "metadata": {},
   "source": [
    "# <span style='color:rgb(102, 51, 0)'> Projet d'économétrie SIM215  </span>"
   ]
  },
  {
   "cell_type": "code",
   "execution_count": 3,
   "metadata": {},
   "outputs": [],
   "source": [
    "import pandas as pd\n",
    "import numpy as np\n",
    "import matplotlib.pyplot as plt\n",
    "import seaborn as sns; sns.set()\n",
    "import statsmodels.api as sm\n",
    "from scipy import stats\n",
    "from scipy.stats import t\n",
    "from scipy.stats import f\n",
    "import math"
   ]
  },
  {
   "cell_type": "markdown",
   "metadata": {},
   "source": [
    "La base de données correspond à une enquête menée auprès de femmes dans le but d'étudier leur participation au travail (main d'oeuvre).\n",
    "https://www.rdocumentation.org/packages/car/versions/2.1-6/topics/Mroz"
   ]
  },
  {
   "cell_type": "markdown",
   "metadata": {},
   "source": [
    "# <span style='color:rgb(102, 51, 0)'> Partie 1. Régression  </span>"
   ]
  },
  {
   "cell_type": "markdown",
   "metadata": {},
   "source": [
    "## <span style='color:rgb(102, 51, 0)'> 1. Lire le fichier mroz.txt. Ne sélectionner que les observations pour lesquelles la variable wage est strictement positive  </span>"
   ]
  },
  {
   "cell_type": "code",
   "execution_count": 4,
   "metadata": {},
   "outputs": [
    {
     "data": {
      "text/html": [
       "<div>\n",
       "<style scoped>\n",
       "    .dataframe tbody tr th:only-of-type {\n",
       "        vertical-align: middle;\n",
       "    }\n",
       "\n",
       "    .dataframe tbody tr th {\n",
       "        vertical-align: top;\n",
       "    }\n",
       "\n",
       "    .dataframe thead th {\n",
       "        text-align: right;\n",
       "    }\n",
       "</style>\n",
       "<table border=\"1\" class=\"dataframe\">\n",
       "  <thead>\n",
       "    <tr style=\"text-align: right;\">\n",
       "      <th></th>\n",
       "      <th>inlf</th>\n",
       "      <th>hours</th>\n",
       "      <th>kidslt6</th>\n",
       "      <th>kidsge6</th>\n",
       "      <th>age</th>\n",
       "      <th>educ</th>\n",
       "      <th>wage</th>\n",
       "      <th>repwage</th>\n",
       "      <th>hushrs</th>\n",
       "      <th>husage</th>\n",
       "      <th>...</th>\n",
       "      <th>faminc</th>\n",
       "      <th>mtr</th>\n",
       "      <th>motheduc</th>\n",
       "      <th>fatheduc</th>\n",
       "      <th>unem</th>\n",
       "      <th>city</th>\n",
       "      <th>exper</th>\n",
       "      <th>nwifeinc</th>\n",
       "      <th>lwage</th>\n",
       "      <th>expersq</th>\n",
       "    </tr>\n",
       "  </thead>\n",
       "  <tbody>\n",
       "    <tr>\n",
       "      <td>0</td>\n",
       "      <td>1</td>\n",
       "      <td>1610</td>\n",
       "      <td>1</td>\n",
       "      <td>0</td>\n",
       "      <td>32</td>\n",
       "      <td>12</td>\n",
       "      <td>3.354</td>\n",
       "      <td>2.65</td>\n",
       "      <td>2708</td>\n",
       "      <td>34</td>\n",
       "      <td>...</td>\n",
       "      <td>16310</td>\n",
       "      <td>0.7215</td>\n",
       "      <td>12</td>\n",
       "      <td>7</td>\n",
       "      <td>5.0</td>\n",
       "      <td>0</td>\n",
       "      <td>14</td>\n",
       "      <td>10.910060</td>\n",
       "      <td>1.210154</td>\n",
       "      <td>196</td>\n",
       "    </tr>\n",
       "    <tr>\n",
       "      <td>1</td>\n",
       "      <td>1</td>\n",
       "      <td>1656</td>\n",
       "      <td>0</td>\n",
       "      <td>2</td>\n",
       "      <td>30</td>\n",
       "      <td>12</td>\n",
       "      <td>1.3889</td>\n",
       "      <td>2.65</td>\n",
       "      <td>2310</td>\n",
       "      <td>30</td>\n",
       "      <td>...</td>\n",
       "      <td>21800</td>\n",
       "      <td>0.6615</td>\n",
       "      <td>7</td>\n",
       "      <td>7</td>\n",
       "      <td>11.0</td>\n",
       "      <td>1</td>\n",
       "      <td>5</td>\n",
       "      <td>19.499980</td>\n",
       "      <td>.3285121</td>\n",
       "      <td>25</td>\n",
       "    </tr>\n",
       "    <tr>\n",
       "      <td>2</td>\n",
       "      <td>1</td>\n",
       "      <td>1980</td>\n",
       "      <td>1</td>\n",
       "      <td>3</td>\n",
       "      <td>35</td>\n",
       "      <td>12</td>\n",
       "      <td>4.5455</td>\n",
       "      <td>4.04</td>\n",
       "      <td>3072</td>\n",
       "      <td>40</td>\n",
       "      <td>...</td>\n",
       "      <td>21040</td>\n",
       "      <td>0.6915</td>\n",
       "      <td>12</td>\n",
       "      <td>7</td>\n",
       "      <td>5.0</td>\n",
       "      <td>0</td>\n",
       "      <td>15</td>\n",
       "      <td>12.039910</td>\n",
       "      <td>1.514138</td>\n",
       "      <td>225</td>\n",
       "    </tr>\n",
       "    <tr>\n",
       "      <td>3</td>\n",
       "      <td>1</td>\n",
       "      <td>456</td>\n",
       "      <td>0</td>\n",
       "      <td>3</td>\n",
       "      <td>34</td>\n",
       "      <td>12</td>\n",
       "      <td>1.0965</td>\n",
       "      <td>3.25</td>\n",
       "      <td>1920</td>\n",
       "      <td>53</td>\n",
       "      <td>...</td>\n",
       "      <td>7300</td>\n",
       "      <td>0.7815</td>\n",
       "      <td>7</td>\n",
       "      <td>7</td>\n",
       "      <td>5.0</td>\n",
       "      <td>0</td>\n",
       "      <td>6</td>\n",
       "      <td>6.799996</td>\n",
       "      <td>.0921233</td>\n",
       "      <td>36</td>\n",
       "    </tr>\n",
       "    <tr>\n",
       "      <td>4</td>\n",
       "      <td>1</td>\n",
       "      <td>1568</td>\n",
       "      <td>1</td>\n",
       "      <td>2</td>\n",
       "      <td>31</td>\n",
       "      <td>14</td>\n",
       "      <td>4.5918</td>\n",
       "      <td>3.60</td>\n",
       "      <td>2000</td>\n",
       "      <td>32</td>\n",
       "      <td>...</td>\n",
       "      <td>27300</td>\n",
       "      <td>0.6215</td>\n",
       "      <td>12</td>\n",
       "      <td>14</td>\n",
       "      <td>9.5</td>\n",
       "      <td>1</td>\n",
       "      <td>7</td>\n",
       "      <td>20.100060</td>\n",
       "      <td>1.524272</td>\n",
       "      <td>49</td>\n",
       "    </tr>\n",
       "    <tr>\n",
       "      <td>...</td>\n",
       "      <td>...</td>\n",
       "      <td>...</td>\n",
       "      <td>...</td>\n",
       "      <td>...</td>\n",
       "      <td>...</td>\n",
       "      <td>...</td>\n",
       "      <td>...</td>\n",
       "      <td>...</td>\n",
       "      <td>...</td>\n",
       "      <td>...</td>\n",
       "      <td>...</td>\n",
       "      <td>...</td>\n",
       "      <td>...</td>\n",
       "      <td>...</td>\n",
       "      <td>...</td>\n",
       "      <td>...</td>\n",
       "      <td>...</td>\n",
       "      <td>...</td>\n",
       "      <td>...</td>\n",
       "      <td>...</td>\n",
       "      <td>...</td>\n",
       "    </tr>\n",
       "    <tr>\n",
       "      <td>748</td>\n",
       "      <td>0</td>\n",
       "      <td>0</td>\n",
       "      <td>0</td>\n",
       "      <td>2</td>\n",
       "      <td>40</td>\n",
       "      <td>13</td>\n",
       "      <td>.</td>\n",
       "      <td>0.00</td>\n",
       "      <td>3020</td>\n",
       "      <td>43</td>\n",
       "      <td>...</td>\n",
       "      <td>28200</td>\n",
       "      <td>0.6215</td>\n",
       "      <td>10</td>\n",
       "      <td>10</td>\n",
       "      <td>9.5</td>\n",
       "      <td>1</td>\n",
       "      <td>5</td>\n",
       "      <td>28.200000</td>\n",
       "      <td>.</td>\n",
       "      <td>25</td>\n",
       "    </tr>\n",
       "    <tr>\n",
       "      <td>749</td>\n",
       "      <td>0</td>\n",
       "      <td>0</td>\n",
       "      <td>2</td>\n",
       "      <td>3</td>\n",
       "      <td>31</td>\n",
       "      <td>12</td>\n",
       "      <td>.</td>\n",
       "      <td>0.00</td>\n",
       "      <td>2056</td>\n",
       "      <td>33</td>\n",
       "      <td>...</td>\n",
       "      <td>10000</td>\n",
       "      <td>0.7715</td>\n",
       "      <td>12</td>\n",
       "      <td>12</td>\n",
       "      <td>7.5</td>\n",
       "      <td>0</td>\n",
       "      <td>14</td>\n",
       "      <td>10.000000</td>\n",
       "      <td>.</td>\n",
       "      <td>196</td>\n",
       "    </tr>\n",
       "    <tr>\n",
       "      <td>750</td>\n",
       "      <td>0</td>\n",
       "      <td>0</td>\n",
       "      <td>0</td>\n",
       "      <td>0</td>\n",
       "      <td>43</td>\n",
       "      <td>12</td>\n",
       "      <td>.</td>\n",
       "      <td>0.00</td>\n",
       "      <td>2383</td>\n",
       "      <td>43</td>\n",
       "      <td>...</td>\n",
       "      <td>9952</td>\n",
       "      <td>0.7515</td>\n",
       "      <td>10</td>\n",
       "      <td>3</td>\n",
       "      <td>7.5</td>\n",
       "      <td>0</td>\n",
       "      <td>4</td>\n",
       "      <td>9.952000</td>\n",
       "      <td>.</td>\n",
       "      <td>16</td>\n",
       "    </tr>\n",
       "    <tr>\n",
       "      <td>751</td>\n",
       "      <td>0</td>\n",
       "      <td>0</td>\n",
       "      <td>0</td>\n",
       "      <td>0</td>\n",
       "      <td>60</td>\n",
       "      <td>12</td>\n",
       "      <td>.</td>\n",
       "      <td>0.00</td>\n",
       "      <td>1705</td>\n",
       "      <td>55</td>\n",
       "      <td>...</td>\n",
       "      <td>24984</td>\n",
       "      <td>0.6215</td>\n",
       "      <td>12</td>\n",
       "      <td>12</td>\n",
       "      <td>14.0</td>\n",
       "      <td>1</td>\n",
       "      <td>15</td>\n",
       "      <td>24.984000</td>\n",
       "      <td>.</td>\n",
       "      <td>225</td>\n",
       "    </tr>\n",
       "    <tr>\n",
       "      <td>752</td>\n",
       "      <td>0</td>\n",
       "      <td>0</td>\n",
       "      <td>0</td>\n",
       "      <td>3</td>\n",
       "      <td>39</td>\n",
       "      <td>9</td>\n",
       "      <td>.</td>\n",
       "      <td>0.00</td>\n",
       "      <td>3120</td>\n",
       "      <td>48</td>\n",
       "      <td>...</td>\n",
       "      <td>28363</td>\n",
       "      <td>0.6915</td>\n",
       "      <td>7</td>\n",
       "      <td>7</td>\n",
       "      <td>11.0</td>\n",
       "      <td>1</td>\n",
       "      <td>12</td>\n",
       "      <td>28.363000</td>\n",
       "      <td>.</td>\n",
       "      <td>144</td>\n",
       "    </tr>\n",
       "  </tbody>\n",
       "</table>\n",
       "<p>753 rows × 22 columns</p>\n",
       "</div>"
      ],
      "text/plain": [
       "     inlf  hours  kidslt6  kidsge6  age  educ    wage  repwage  hushrs  \\\n",
       "0       1   1610        1        0   32    12   3.354     2.65    2708   \n",
       "1       1   1656        0        2   30    12  1.3889     2.65    2310   \n",
       "2       1   1980        1        3   35    12  4.5455     4.04    3072   \n",
       "3       1    456        0        3   34    12  1.0965     3.25    1920   \n",
       "4       1   1568        1        2   31    14  4.5918     3.60    2000   \n",
       "..    ...    ...      ...      ...  ...   ...     ...      ...     ...   \n",
       "748     0      0        0        2   40    13       .     0.00    3020   \n",
       "749     0      0        2        3   31    12       .     0.00    2056   \n",
       "750     0      0        0        0   43    12       .     0.00    2383   \n",
       "751     0      0        0        0   60    12       .     0.00    1705   \n",
       "752     0      0        0        3   39     9       .     0.00    3120   \n",
       "\n",
       "     husage  ...  faminc     mtr  motheduc  fatheduc  unem  city  exper  \\\n",
       "0        34  ...   16310  0.7215        12         7   5.0     0     14   \n",
       "1        30  ...   21800  0.6615         7         7  11.0     1      5   \n",
       "2        40  ...   21040  0.6915        12         7   5.0     0     15   \n",
       "3        53  ...    7300  0.7815         7         7   5.0     0      6   \n",
       "4        32  ...   27300  0.6215        12        14   9.5     1      7   \n",
       "..      ...  ...     ...     ...       ...       ...   ...   ...    ...   \n",
       "748      43  ...   28200  0.6215        10        10   9.5     1      5   \n",
       "749      33  ...   10000  0.7715        12        12   7.5     0     14   \n",
       "750      43  ...    9952  0.7515        10         3   7.5     0      4   \n",
       "751      55  ...   24984  0.6215        12        12  14.0     1     15   \n",
       "752      48  ...   28363  0.6915         7         7  11.0     1     12   \n",
       "\n",
       "      nwifeinc     lwage  expersq  \n",
       "0    10.910060  1.210154      196  \n",
       "1    19.499980  .3285121       25  \n",
       "2    12.039910  1.514138      225  \n",
       "3     6.799996  .0921233       36  \n",
       "4    20.100060  1.524272       49  \n",
       "..         ...       ...      ...  \n",
       "748  28.200000         .       25  \n",
       "749  10.000000         .      196  \n",
       "750   9.952000         .       16  \n",
       "751  24.984000         .      225  \n",
       "752  28.363000         .      144  \n",
       "\n",
       "[753 rows x 22 columns]"
      ]
     },
     "execution_count": 4,
     "metadata": {},
     "output_type": "execute_result"
    }
   ],
   "source": [
    "data = pd.read_csv(\"/home/ongono/Documents/econometrie/textfiles/MROZ.raw\", delim_whitespace = True,header = None)\n",
    "data = data.rename(columns={0: 'inlf',\n",
    "                            1: 'hours',                    \n",
    "                            2: 'kidslt6',                  \n",
    "                            3: 'kidsge6',                  \n",
    "                            4: 'age',                      \n",
    "                            5: 'educ',                     \n",
    "                            6: 'wage',                     \n",
    "                            7: 'repwage',                  \n",
    "                            8: 'hushrs',                   \n",
    "                            9: 'husage',                   \n",
    "                            10: 'huseduc',                  \n",
    "                            11: 'huswage',                 \n",
    "                            12: 'faminc',                   \n",
    "                            13: 'mtr',                      \n",
    "                            14: 'motheduc',\n",
    "                            15: 'fatheduc',\n",
    "                            16: 'unem',\n",
    "                            17: 'city', \n",
    "                            18: 'exper',\n",
    "                            19: 'nwifeinc',\n",
    "                            20: 'lwage',\n",
    "                            21: 'expersq'\n",
    "                           })\n",
    "data"
   ]
  },
  {
   "cell_type": "markdown",
   "metadata": {},
   "source": [
    "### Data description"
   ]
  },
  {
   "cell_type": "raw",
   "metadata": {},
   "source": [
    "1. inlf                     =1 if in labor force, 1975\n",
    "2. hours                    hours worked, 1975\n",
    "3. kidslt6                  # kids < 6 years\n",
    "4. kidsge6                  # kids 6-18\n",
    "5. age                      woman's age in yrs\n",
    "6. educ                     years of schooling\n",
    "7. wage                     estimated wage from earns., hours\n",
    "8. repwage                  reported wage at interview in 1976\n",
    "9. hushrs                   hours worked by husband, 1975\n",
    "10. husage                   husband's age\n",
    "11. huseduc                  husband's years of schooling\n",
    "12. huswage                  husband's hourly wage, 1975\n",
    "13. faminc                   family income, 1975\n",
    "14. mtr                      fed. marginal tax rate facing woman\n",
    "15. motheduc                 mother's years of schooling\n",
    "16. fatheduc                 father's years of schooling\n",
    "17. unem                     unem. rate in county of resid.\n",
    "18. city                     =1 if live in SMSA\n",
    "19. exper                    actual labor mkt exper\n",
    "20. nwifeinc                 (faminc - wage*hours)/1000\n",
    "21. lwage                    log(wage)\n",
    "22. expersq                  exper^2"
   ]
  },
  {
   "cell_type": "markdown",
   "metadata": {},
   "source": [
    "### Selection des variables pour lesquelles le salaire est strictement positif"
   ]
  },
  {
   "cell_type": "code",
   "execution_count": 5,
   "metadata": {},
   "outputs": [],
   "source": [
    "# Pour faire la selection, on remplace les valeurs manquantes par 0\n",
    "cols = ['wage', 'lwage']\n",
    "for i in cols:\n",
    "    data[i] = [0. if va=='.' else float(va) for va in data[i]]"
   ]
  },
  {
   "cell_type": "code",
   "execution_count": 6,
   "metadata": {},
   "outputs": [
    {
     "data": {
      "text/html": [
       "<div>\n",
       "<style scoped>\n",
       "    .dataframe tbody tr th:only-of-type {\n",
       "        vertical-align: middle;\n",
       "    }\n",
       "\n",
       "    .dataframe tbody tr th {\n",
       "        vertical-align: top;\n",
       "    }\n",
       "\n",
       "    .dataframe thead th {\n",
       "        text-align: right;\n",
       "    }\n",
       "</style>\n",
       "<table border=\"1\" class=\"dataframe\">\n",
       "  <thead>\n",
       "    <tr style=\"text-align: right;\">\n",
       "      <th></th>\n",
       "      <th>index</th>\n",
       "      <th>inlf</th>\n",
       "      <th>hours</th>\n",
       "      <th>kidslt6</th>\n",
       "      <th>kidsge6</th>\n",
       "      <th>age</th>\n",
       "      <th>educ</th>\n",
       "      <th>wage</th>\n",
       "      <th>repwage</th>\n",
       "      <th>hushrs</th>\n",
       "      <th>...</th>\n",
       "      <th>faminc</th>\n",
       "      <th>mtr</th>\n",
       "      <th>motheduc</th>\n",
       "      <th>fatheduc</th>\n",
       "      <th>unem</th>\n",
       "      <th>city</th>\n",
       "      <th>exper</th>\n",
       "      <th>nwifeinc</th>\n",
       "      <th>lwage</th>\n",
       "      <th>expersq</th>\n",
       "    </tr>\n",
       "  </thead>\n",
       "  <tbody>\n",
       "    <tr>\n",
       "      <td>0</td>\n",
       "      <td>0</td>\n",
       "      <td>1</td>\n",
       "      <td>1610</td>\n",
       "      <td>1</td>\n",
       "      <td>0</td>\n",
       "      <td>32</td>\n",
       "      <td>12</td>\n",
       "      <td>3.3540</td>\n",
       "      <td>2.65</td>\n",
       "      <td>2708</td>\n",
       "      <td>...</td>\n",
       "      <td>16310</td>\n",
       "      <td>0.7215</td>\n",
       "      <td>12</td>\n",
       "      <td>7</td>\n",
       "      <td>5.0</td>\n",
       "      <td>0</td>\n",
       "      <td>14</td>\n",
       "      <td>10.910060</td>\n",
       "      <td>1.210154</td>\n",
       "      <td>196</td>\n",
       "    </tr>\n",
       "    <tr>\n",
       "      <td>1</td>\n",
       "      <td>1</td>\n",
       "      <td>1</td>\n",
       "      <td>1656</td>\n",
       "      <td>0</td>\n",
       "      <td>2</td>\n",
       "      <td>30</td>\n",
       "      <td>12</td>\n",
       "      <td>1.3889</td>\n",
       "      <td>2.65</td>\n",
       "      <td>2310</td>\n",
       "      <td>...</td>\n",
       "      <td>21800</td>\n",
       "      <td>0.6615</td>\n",
       "      <td>7</td>\n",
       "      <td>7</td>\n",
       "      <td>11.0</td>\n",
       "      <td>1</td>\n",
       "      <td>5</td>\n",
       "      <td>19.499980</td>\n",
       "      <td>0.328512</td>\n",
       "      <td>25</td>\n",
       "    </tr>\n",
       "    <tr>\n",
       "      <td>2</td>\n",
       "      <td>2</td>\n",
       "      <td>1</td>\n",
       "      <td>1980</td>\n",
       "      <td>1</td>\n",
       "      <td>3</td>\n",
       "      <td>35</td>\n",
       "      <td>12</td>\n",
       "      <td>4.5455</td>\n",
       "      <td>4.04</td>\n",
       "      <td>3072</td>\n",
       "      <td>...</td>\n",
       "      <td>21040</td>\n",
       "      <td>0.6915</td>\n",
       "      <td>12</td>\n",
       "      <td>7</td>\n",
       "      <td>5.0</td>\n",
       "      <td>0</td>\n",
       "      <td>15</td>\n",
       "      <td>12.039910</td>\n",
       "      <td>1.514138</td>\n",
       "      <td>225</td>\n",
       "    </tr>\n",
       "    <tr>\n",
       "      <td>3</td>\n",
       "      <td>3</td>\n",
       "      <td>1</td>\n",
       "      <td>456</td>\n",
       "      <td>0</td>\n",
       "      <td>3</td>\n",
       "      <td>34</td>\n",
       "      <td>12</td>\n",
       "      <td>1.0965</td>\n",
       "      <td>3.25</td>\n",
       "      <td>1920</td>\n",
       "      <td>...</td>\n",
       "      <td>7300</td>\n",
       "      <td>0.7815</td>\n",
       "      <td>7</td>\n",
       "      <td>7</td>\n",
       "      <td>5.0</td>\n",
       "      <td>0</td>\n",
       "      <td>6</td>\n",
       "      <td>6.799996</td>\n",
       "      <td>0.092123</td>\n",
       "      <td>36</td>\n",
       "    </tr>\n",
       "    <tr>\n",
       "      <td>4</td>\n",
       "      <td>4</td>\n",
       "      <td>1</td>\n",
       "      <td>1568</td>\n",
       "      <td>1</td>\n",
       "      <td>2</td>\n",
       "      <td>31</td>\n",
       "      <td>14</td>\n",
       "      <td>4.5918</td>\n",
       "      <td>3.60</td>\n",
       "      <td>2000</td>\n",
       "      <td>...</td>\n",
       "      <td>27300</td>\n",
       "      <td>0.6215</td>\n",
       "      <td>12</td>\n",
       "      <td>14</td>\n",
       "      <td>9.5</td>\n",
       "      <td>1</td>\n",
       "      <td>7</td>\n",
       "      <td>20.100060</td>\n",
       "      <td>1.524272</td>\n",
       "      <td>49</td>\n",
       "    </tr>\n",
       "    <tr>\n",
       "      <td>...</td>\n",
       "      <td>...</td>\n",
       "      <td>...</td>\n",
       "      <td>...</td>\n",
       "      <td>...</td>\n",
       "      <td>...</td>\n",
       "      <td>...</td>\n",
       "      <td>...</td>\n",
       "      <td>...</td>\n",
       "      <td>...</td>\n",
       "      <td>...</td>\n",
       "      <td>...</td>\n",
       "      <td>...</td>\n",
       "      <td>...</td>\n",
       "      <td>...</td>\n",
       "      <td>...</td>\n",
       "      <td>...</td>\n",
       "      <td>...</td>\n",
       "      <td>...</td>\n",
       "      <td>...</td>\n",
       "      <td>...</td>\n",
       "      <td>...</td>\n",
       "    </tr>\n",
       "    <tr>\n",
       "      <td>423</td>\n",
       "      <td>423</td>\n",
       "      <td>1</td>\n",
       "      <td>680</td>\n",
       "      <td>0</td>\n",
       "      <td>5</td>\n",
       "      <td>36</td>\n",
       "      <td>10</td>\n",
       "      <td>2.3118</td>\n",
       "      <td>0.00</td>\n",
       "      <td>3430</td>\n",
       "      <td>...</td>\n",
       "      <td>19772</td>\n",
       "      <td>0.7215</td>\n",
       "      <td>7</td>\n",
       "      <td>7</td>\n",
       "      <td>7.5</td>\n",
       "      <td>0</td>\n",
       "      <td>2</td>\n",
       "      <td>18.199980</td>\n",
       "      <td>0.838027</td>\n",
       "      <td>4</td>\n",
       "    </tr>\n",
       "    <tr>\n",
       "      <td>424</td>\n",
       "      <td>424</td>\n",
       "      <td>1</td>\n",
       "      <td>2450</td>\n",
       "      <td>0</td>\n",
       "      <td>1</td>\n",
       "      <td>40</td>\n",
       "      <td>12</td>\n",
       "      <td>5.3061</td>\n",
       "      <td>6.50</td>\n",
       "      <td>2008</td>\n",
       "      <td>...</td>\n",
       "      <td>35641</td>\n",
       "      <td>0.6215</td>\n",
       "      <td>7</td>\n",
       "      <td>7</td>\n",
       "      <td>5.0</td>\n",
       "      <td>1</td>\n",
       "      <td>21</td>\n",
       "      <td>22.641060</td>\n",
       "      <td>1.668857</td>\n",
       "      <td>441</td>\n",
       "    </tr>\n",
       "    <tr>\n",
       "      <td>425</td>\n",
       "      <td>425</td>\n",
       "      <td>1</td>\n",
       "      <td>2144</td>\n",
       "      <td>0</td>\n",
       "      <td>2</td>\n",
       "      <td>43</td>\n",
       "      <td>13</td>\n",
       "      <td>5.8675</td>\n",
       "      <td>0.00</td>\n",
       "      <td>2140</td>\n",
       "      <td>...</td>\n",
       "      <td>34220</td>\n",
       "      <td>0.5815</td>\n",
       "      <td>7</td>\n",
       "      <td>7</td>\n",
       "      <td>7.5</td>\n",
       "      <td>1</td>\n",
       "      <td>22</td>\n",
       "      <td>21.640080</td>\n",
       "      <td>1.769429</td>\n",
       "      <td>484</td>\n",
       "    </tr>\n",
       "    <tr>\n",
       "      <td>426</td>\n",
       "      <td>426</td>\n",
       "      <td>1</td>\n",
       "      <td>1760</td>\n",
       "      <td>0</td>\n",
       "      <td>1</td>\n",
       "      <td>33</td>\n",
       "      <td>12</td>\n",
       "      <td>3.4091</td>\n",
       "      <td>3.21</td>\n",
       "      <td>3380</td>\n",
       "      <td>...</td>\n",
       "      <td>30000</td>\n",
       "      <td>0.5815</td>\n",
       "      <td>12</td>\n",
       "      <td>16</td>\n",
       "      <td>11.0</td>\n",
       "      <td>1</td>\n",
       "      <td>14</td>\n",
       "      <td>23.999980</td>\n",
       "      <td>1.226448</td>\n",
       "      <td>196</td>\n",
       "    </tr>\n",
       "    <tr>\n",
       "      <td>427</td>\n",
       "      <td>427</td>\n",
       "      <td>1</td>\n",
       "      <td>490</td>\n",
       "      <td>0</td>\n",
       "      <td>1</td>\n",
       "      <td>30</td>\n",
       "      <td>12</td>\n",
       "      <td>4.0816</td>\n",
       "      <td>2.46</td>\n",
       "      <td>2430</td>\n",
       "      <td>...</td>\n",
       "      <td>18000</td>\n",
       "      <td>0.6915</td>\n",
       "      <td>12</td>\n",
       "      <td>12</td>\n",
       "      <td>7.5</td>\n",
       "      <td>1</td>\n",
       "      <td>7</td>\n",
       "      <td>16.000020</td>\n",
       "      <td>1.406489</td>\n",
       "      <td>49</td>\n",
       "    </tr>\n",
       "  </tbody>\n",
       "</table>\n",
       "<p>428 rows × 23 columns</p>\n",
       "</div>"
      ],
      "text/plain": [
       "     index  inlf  hours  kidslt6  kidsge6  age  educ    wage  repwage  hushrs  \\\n",
       "0        0     1   1610        1        0   32    12  3.3540     2.65    2708   \n",
       "1        1     1   1656        0        2   30    12  1.3889     2.65    2310   \n",
       "2        2     1   1980        1        3   35    12  4.5455     4.04    3072   \n",
       "3        3     1    456        0        3   34    12  1.0965     3.25    1920   \n",
       "4        4     1   1568        1        2   31    14  4.5918     3.60    2000   \n",
       "..     ...   ...    ...      ...      ...  ...   ...     ...      ...     ...   \n",
       "423    423     1    680        0        5   36    10  2.3118     0.00    3430   \n",
       "424    424     1   2450        0        1   40    12  5.3061     6.50    2008   \n",
       "425    425     1   2144        0        2   43    13  5.8675     0.00    2140   \n",
       "426    426     1   1760        0        1   33    12  3.4091     3.21    3380   \n",
       "427    427     1    490        0        1   30    12  4.0816     2.46    2430   \n",
       "\n",
       "     ...  faminc     mtr  motheduc  fatheduc  unem  city  exper   nwifeinc  \\\n",
       "0    ...   16310  0.7215        12         7   5.0     0     14  10.910060   \n",
       "1    ...   21800  0.6615         7         7  11.0     1      5  19.499980   \n",
       "2    ...   21040  0.6915        12         7   5.0     0     15  12.039910   \n",
       "3    ...    7300  0.7815         7         7   5.0     0      6   6.799996   \n",
       "4    ...   27300  0.6215        12        14   9.5     1      7  20.100060   \n",
       "..   ...     ...     ...       ...       ...   ...   ...    ...        ...   \n",
       "423  ...   19772  0.7215         7         7   7.5     0      2  18.199980   \n",
       "424  ...   35641  0.6215         7         7   5.0     1     21  22.641060   \n",
       "425  ...   34220  0.5815         7         7   7.5     1     22  21.640080   \n",
       "426  ...   30000  0.5815        12        16  11.0     1     14  23.999980   \n",
       "427  ...   18000  0.6915        12        12   7.5     1      7  16.000020   \n",
       "\n",
       "        lwage  expersq  \n",
       "0    1.210154      196  \n",
       "1    0.328512       25  \n",
       "2    1.514138      225  \n",
       "3    0.092123       36  \n",
       "4    1.524272       49  \n",
       "..        ...      ...  \n",
       "423  0.838027        4  \n",
       "424  1.668857      441  \n",
       "425  1.769429      484  \n",
       "426  1.226448      196  \n",
       "427  1.406489       49  \n",
       "\n",
       "[428 rows x 23 columns]"
      ]
     },
     "execution_count": 6,
     "metadata": {},
     "output_type": "execute_result"
    }
   ],
   "source": [
    "# on sélectionne les observations pour lesquelles la variable wage est strictement positive.\n",
    "data_wage_positif = data[data.wage > 0.0]\n",
    "data1 = data_wage_positif.reset_index()\n",
    "data1"
   ]
  },
  {
   "cell_type": "markdown",
   "metadata": {},
   "source": [
    "    On constate qu'on perd environ 325 données. Donc, nous avions dans la base de données 325 valeurs manquantes."
   ]
  },
  {
   "cell_type": "markdown",
   "metadata": {},
   "source": [
    "## <span style='color:rgb(102, 51, 0)'> 2. Faire les statistiques descriptives du salaire, de l’age et de l’éducation pour l’ensemble des femmes puis, pour les femmes dont le salaire du mari est supérieure au 65 ème percentile de l’échantillon, puis pour les femmes dont le salaire du mari est inférieur au 65 ème percentile de l’échantillon. Commenter  </span>"
   ]
  },
  {
   "cell_type": "markdown",
   "metadata": {},
   "source": [
    "### Statistiques descriptives du salaire, de l’age et de l’éducation pour l’ensemble des femmes "
   ]
  },
  {
   "cell_type": "code",
   "execution_count": 7,
   "metadata": {},
   "outputs": [
    {
     "data": {
      "text/html": [
       "<div>\n",
       "<style scoped>\n",
       "    .dataframe tbody tr th:only-of-type {\n",
       "        vertical-align: middle;\n",
       "    }\n",
       "\n",
       "    .dataframe tbody tr th {\n",
       "        vertical-align: top;\n",
       "    }\n",
       "\n",
       "    .dataframe thead th {\n",
       "        text-align: right;\n",
       "    }\n",
       "</style>\n",
       "<table border=\"1\" class=\"dataframe\">\n",
       "  <thead>\n",
       "    <tr style=\"text-align: right;\">\n",
       "      <th></th>\n",
       "      <th>wage</th>\n",
       "      <th>age</th>\n",
       "      <th>educ</th>\n",
       "    </tr>\n",
       "  </thead>\n",
       "  <tbody>\n",
       "    <tr>\n",
       "      <td>count</td>\n",
       "      <td>428.000000</td>\n",
       "      <td>428.000000</td>\n",
       "      <td>428.000000</td>\n",
       "    </tr>\n",
       "    <tr>\n",
       "      <td>mean</td>\n",
       "      <td>4.177682</td>\n",
       "      <td>41.971963</td>\n",
       "      <td>12.658879</td>\n",
       "    </tr>\n",
       "    <tr>\n",
       "      <td>std</td>\n",
       "      <td>3.310282</td>\n",
       "      <td>7.721084</td>\n",
       "      <td>2.285376</td>\n",
       "    </tr>\n",
       "    <tr>\n",
       "      <td>min</td>\n",
       "      <td>0.128200</td>\n",
       "      <td>30.000000</td>\n",
       "      <td>5.000000</td>\n",
       "    </tr>\n",
       "    <tr>\n",
       "      <td>25%</td>\n",
       "      <td>2.262600</td>\n",
       "      <td>35.000000</td>\n",
       "      <td>12.000000</td>\n",
       "    </tr>\n",
       "    <tr>\n",
       "      <td>50%</td>\n",
       "      <td>3.481900</td>\n",
       "      <td>42.000000</td>\n",
       "      <td>12.000000</td>\n",
       "    </tr>\n",
       "    <tr>\n",
       "      <td>75%</td>\n",
       "      <td>4.970750</td>\n",
       "      <td>47.250000</td>\n",
       "      <td>14.000000</td>\n",
       "    </tr>\n",
       "    <tr>\n",
       "      <td>max</td>\n",
       "      <td>25.000000</td>\n",
       "      <td>60.000000</td>\n",
       "      <td>17.000000</td>\n",
       "    </tr>\n",
       "  </tbody>\n",
       "</table>\n",
       "</div>"
      ],
      "text/plain": [
       "             wage         age        educ\n",
       "count  428.000000  428.000000  428.000000\n",
       "mean     4.177682   41.971963   12.658879\n",
       "std      3.310282    7.721084    2.285376\n",
       "min      0.128200   30.000000    5.000000\n",
       "25%      2.262600   35.000000   12.000000\n",
       "50%      3.481900   42.000000   12.000000\n",
       "75%      4.970750   47.250000   14.000000\n",
       "max     25.000000   60.000000   17.000000"
      ]
     },
     "execution_count": 7,
     "metadata": {},
     "output_type": "execute_result"
    }
   ],
   "source": [
    "data1[['wage','age','educ']].describe()"
   ]
  },
  {
   "cell_type": "markdown",
   "metadata": {},
   "source": [
    "Le salaire moyen des femmes est de 4.17$ par heure. Celles-ci ont en moyenne 42 ans environ et ont un niveau d'éducation compris entre 12 et 13"
   ]
  },
  {
   "cell_type": "markdown",
   "metadata": {},
   "source": [
    "### Femmes dont le salaire du mari est supérieur au 65ème percentile de l’échantillon"
   ]
  },
  {
   "cell_type": "code",
   "execution_count": 8,
   "metadata": {},
   "outputs": [
    {
     "data": {
      "text/html": [
       "<div>\n",
       "<style scoped>\n",
       "    .dataframe tbody tr th:only-of-type {\n",
       "        vertical-align: middle;\n",
       "    }\n",
       "\n",
       "    .dataframe tbody tr th {\n",
       "        vertical-align: top;\n",
       "    }\n",
       "\n",
       "    .dataframe thead th {\n",
       "        text-align: right;\n",
       "    }\n",
       "</style>\n",
       "<table border=\"1\" class=\"dataframe\">\n",
       "  <thead>\n",
       "    <tr style=\"text-align: right;\">\n",
       "      <th></th>\n",
       "      <th>wage</th>\n",
       "      <th>age</th>\n",
       "      <th>educ</th>\n",
       "    </tr>\n",
       "  </thead>\n",
       "  <tbody>\n",
       "    <tr>\n",
       "      <td>count</td>\n",
       "      <td>41.000000</td>\n",
       "      <td>41.000000</td>\n",
       "      <td>41.000000</td>\n",
       "    </tr>\n",
       "    <tr>\n",
       "      <td>mean</td>\n",
       "      <td>11.713202</td>\n",
       "      <td>41.878049</td>\n",
       "      <td>14.780488</td>\n",
       "    </tr>\n",
       "    <tr>\n",
       "      <td>std</td>\n",
       "      <td>5.128846</td>\n",
       "      <td>8.237703</td>\n",
       "      <td>2.403250</td>\n",
       "    </tr>\n",
       "    <tr>\n",
       "      <td>min</td>\n",
       "      <td>7.843100</td>\n",
       "      <td>30.000000</td>\n",
       "      <td>10.000000</td>\n",
       "    </tr>\n",
       "    <tr>\n",
       "      <td>25%</td>\n",
       "      <td>8.333300</td>\n",
       "      <td>35.000000</td>\n",
       "      <td>12.000000</td>\n",
       "    </tr>\n",
       "    <tr>\n",
       "      <td>50%</td>\n",
       "      <td>9.578500</td>\n",
       "      <td>40.000000</td>\n",
       "      <td>16.000000</td>\n",
       "    </tr>\n",
       "    <tr>\n",
       "      <td>75%</td>\n",
       "      <td>11.933000</td>\n",
       "      <td>48.000000</td>\n",
       "      <td>17.000000</td>\n",
       "    </tr>\n",
       "    <tr>\n",
       "      <td>max</td>\n",
       "      <td>25.000000</td>\n",
       "      <td>57.000000</td>\n",
       "      <td>17.000000</td>\n",
       "    </tr>\n",
       "  </tbody>\n",
       "</table>\n",
       "</div>"
      ],
      "text/plain": [
       "            wage        age       educ\n",
       "count  41.000000  41.000000  41.000000\n",
       "mean   11.713202  41.878049  14.780488\n",
       "std     5.128846   8.237703   2.403250\n",
       "min     7.843100  30.000000  10.000000\n",
       "25%     8.333300  35.000000  12.000000\n",
       "50%     9.578500  40.000000  16.000000\n",
       "75%    11.933000  48.000000  17.000000\n",
       "max    25.000000  57.000000  17.000000"
      ]
     },
     "execution_count": 8,
     "metadata": {},
     "output_type": "execute_result"
    }
   ],
   "source": [
    "per65 = data1.huswage.quantile(0.65)                        # 65ème percentile du salaire du mari\n",
    "data_high_per65 = data1[data1.wage > per65]                 # observations pour lesquelles wage > per65\n",
    "data_high_per65[['wage','age','educ']].describe()           # stats descriptives de 'wage','age','educ'"
   ]
  },
  {
   "cell_type": "markdown",
   "metadata": {},
   "source": [
    "Le salaire moyen des femmes est de 11.71$ par heure. Celles-ci ont en moyenne 42 ans environ et ont un niveau d'éducation compris entre 14 et 15."
   ]
  },
  {
   "cell_type": "markdown",
   "metadata": {},
   "source": [
    "### Femmes dont le salaire du mari est inférieur au 65ème percentile de l’échantillon"
   ]
  },
  {
   "cell_type": "code",
   "execution_count": 9,
   "metadata": {},
   "outputs": [
    {
     "data": {
      "text/html": [
       "<div>\n",
       "<style scoped>\n",
       "    .dataframe tbody tr th:only-of-type {\n",
       "        vertical-align: middle;\n",
       "    }\n",
       "\n",
       "    .dataframe tbody tr th {\n",
       "        vertical-align: top;\n",
       "    }\n",
       "\n",
       "    .dataframe thead th {\n",
       "        text-align: right;\n",
       "    }\n",
       "</style>\n",
       "<table border=\"1\" class=\"dataframe\">\n",
       "  <thead>\n",
       "    <tr style=\"text-align: right;\">\n",
       "      <th></th>\n",
       "      <th>wage</th>\n",
       "      <th>age</th>\n",
       "      <th>educ</th>\n",
       "    </tr>\n",
       "  </thead>\n",
       "  <tbody>\n",
       "    <tr>\n",
       "      <td>count</td>\n",
       "      <td>387.000000</td>\n",
       "      <td>387.000000</td>\n",
       "      <td>387.000000</td>\n",
       "    </tr>\n",
       "    <tr>\n",
       "      <td>mean</td>\n",
       "      <td>3.379345</td>\n",
       "      <td>41.981912</td>\n",
       "      <td>12.434109</td>\n",
       "    </tr>\n",
       "    <tr>\n",
       "      <td>std</td>\n",
       "      <td>1.650916</td>\n",
       "      <td>7.675557</td>\n",
       "      <td>2.156488</td>\n",
       "    </tr>\n",
       "    <tr>\n",
       "      <td>min</td>\n",
       "      <td>0.128200</td>\n",
       "      <td>30.000000</td>\n",
       "      <td>5.000000</td>\n",
       "    </tr>\n",
       "    <tr>\n",
       "      <td>25%</td>\n",
       "      <td>2.135300</td>\n",
       "      <td>35.000000</td>\n",
       "      <td>12.000000</td>\n",
       "    </tr>\n",
       "    <tr>\n",
       "      <td>50%</td>\n",
       "      <td>3.214300</td>\n",
       "      <td>42.000000</td>\n",
       "      <td>12.000000</td>\n",
       "    </tr>\n",
       "    <tr>\n",
       "      <td>75%</td>\n",
       "      <td>4.482800</td>\n",
       "      <td>47.000000</td>\n",
       "      <td>13.000000</td>\n",
       "    </tr>\n",
       "    <tr>\n",
       "      <td>max</td>\n",
       "      <td>7.652200</td>\n",
       "      <td>60.000000</td>\n",
       "      <td>17.000000</td>\n",
       "    </tr>\n",
       "  </tbody>\n",
       "</table>\n",
       "</div>"
      ],
      "text/plain": [
       "             wage         age        educ\n",
       "count  387.000000  387.000000  387.000000\n",
       "mean     3.379345   41.981912   12.434109\n",
       "std      1.650916    7.675557    2.156488\n",
       "min      0.128200   30.000000    5.000000\n",
       "25%      2.135300   35.000000   12.000000\n",
       "50%      3.214300   42.000000   12.000000\n",
       "75%      4.482800   47.000000   13.000000\n",
       "max      7.652200   60.000000   17.000000"
      ]
     },
     "execution_count": 9,
     "metadata": {},
     "output_type": "execute_result"
    }
   ],
   "source": [
    "data_inf_per65 = data1[data1.wage < per65]                 # observations pour lesquelles wage < per65\n",
    "data_inf_per65[['wage','age','educ']].describe()           # stats descriptives de 'wage','age','educ'"
   ]
  },
  {
   "cell_type": "markdown",
   "metadata": {},
   "source": [
    "Le salaire moyen des femmes est de 3.38$ par heure. Celles-ci ont en moyenne 42 ans environ et ont un niveau d'éducation compris entre 12 et 13."
   ]
  },
  {
   "cell_type": "markdown",
   "metadata": {},
   "source": [
    "### Commentaire:\n",
    "\n",
    "Il existe une minorité de femmes (effectif = 41) dont le salaire horaire est important. Il s'agit des femmes dont le salaire du mari est supérieur au 65ème percentile du salaire des maris de l'échantillon. Celles-ci ont un niveau d'étude élevé compris entre 14 et 15 et sont agées de 42 ans en moyenne. Le plus bas salaire dans ce sous groupe de femmes est de 7.84 et le plus élevé est de 25. Cependant l'ecart type des salaires dans ce sous groupe reste important ce qui reflecte une grande disparité autour de la moyenne des salaires de ce sous groupe.\n",
    "\n",
    "L'autre sous groupe est majoritaire dans l'échantillon (effectif = 387). Il influence les statistiques globales de l'échantillon. Les femmes ont un salaire moyen de 3.37, elles sont agées de 42 ans, et ont un niveau d'éducation compris entre 12 et 13.\n"
   ]
  },
  {
   "cell_type": "markdown",
   "metadata": {},
   "source": [
    "## <span style='color:rgb(102, 51, 0)'> 3- Faire l'histogramme de la variable wage. Supprimer les observations qui sont à plus de 3 écart-types de la moyenne et refaire l’histogramme </span>"
   ]
  },
  {
   "cell_type": "code",
   "execution_count": 10,
   "metadata": {},
   "outputs": [
    {
     "data": {
      "image/png": "[encoded data removed]",
      "text/plain": [
       "<Figure size 1080x504 with 1 Axes>"
      ]
     },
     "metadata": {},
     "output_type": "display_data"
    }
   ],
   "source": [
    "plt.figure(figsize=(15,7))\n",
    "plt.title(\"Wage\")\n",
    "sns.distplot(data1.wage, bins=25, label='Wage histogram')\n",
    "plt.legend()\n",
    "plt.show()"
   ]
  },
  {
   "cell_type": "code",
   "execution_count": 11,
   "metadata": {},
   "outputs": [
    {
     "data": {
      "text/plain": [
       "3.0801391789818724"
      ]
     },
     "execution_count": 11,
     "metadata": {},
     "output_type": "execute_result"
    }
   ],
   "source": [
    "stats.skew(data1.wage)"
   ]
  },
  {
   "cell_type": "markdown",
   "metadata": {},
   "source": [
    "### Calcul de l'écart-type et de l'écart à la moyenne"
   ]
  },
  {
   "cell_type": "code",
   "execution_count": 12,
   "metadata": {},
   "outputs": [],
   "source": [
    "ecart_type = data1[['wage']].std()[0]\n",
    "ecart_a_moy = data1[['wage']] - data1[['wage']].mean()"
   ]
  },
  {
   "cell_type": "markdown",
   "metadata": {},
   "source": [
    "### Selection des données pour lesquelles l'écart à la moyenne est inférieure à 3 ecart-types"
   ]
  },
  {
   "cell_type": "code",
   "execution_count": 13,
   "metadata": {},
   "outputs": [],
   "source": [
    "df = ecart_a_moy[ecart_a_moy.wage <= 3*ecart_type]"
   ]
  },
  {
   "cell_type": "markdown",
   "metadata": {},
   "source": [
    "### Histogramme des données selectionnées"
   ]
  },
  {
   "cell_type": "code",
   "execution_count": 14,
   "metadata": {},
   "outputs": [
    {
     "data": {
      "image/png": "[encoded data removed]",
      "text/plain": [
       "<Figure size 1080x504 with 1 Axes>"
      ]
     },
     "metadata": {},
     "output_type": "display_data"
    }
   ],
   "source": [
    "plt.figure(figsize=(15,7))\n",
    "plt.title(\"Wage\")\n",
    "sns.distplot(df.wage, bins=25, label='Wage histogram')\n",
    "plt.legend()\n",
    "plt.show()"
   ]
  },
  {
   "cell_type": "code",
   "execution_count": 15,
   "metadata": {},
   "outputs": [
    {
     "data": {
      "text/plain": [
       "1.13137305456983"
      ]
     },
     "execution_count": 15,
     "metadata": {},
     "output_type": "execute_result"
    }
   ],
   "source": [
    "stats.skew(df.wage)"
   ]
  },
  {
   "cell_type": "markdown",
   "metadata": {},
   "source": [
    "### Commentaire:\n",
    "On peut constater qu'en éliminant les observations qui sont éloignées de trois écart-types à la moyenne on obtient un distribution qui se rapproche mieux de la distribution de la loi normale. Le coefficient d'asymétrie skewness  calculé permet dans les deux cas de figure permet d'infirmer cette hypothèse.\n"
   ]
  },
  {
   "cell_type": "markdown",
   "metadata": {},
   "source": [
    "## <span style='color:rgb(102, 51, 0)'> 4. Calculer les corrélations motheduc et fatheduc. Expliquer le problème de multi-collinéarité. Commenter </span>"
   ]
  },
  {
   "cell_type": "code",
   "execution_count": 16,
   "metadata": {},
   "outputs": [
    {
     "data": {
      "text/plain": [
       "0.554063218431168"
      ]
     },
     "execution_count": 16,
     "metadata": {},
     "output_type": "execute_result"
    }
   ],
   "source": [
    "data1.motheduc.corr(data1.fatheduc, method='pearson')"
   ]
  },
  {
   "cell_type": "markdown",
   "metadata": {},
   "source": [
    "### Représentation graphique des deux variables"
   ]
  },
  {
   "cell_type": "code",
   "execution_count": 17,
   "metadata": {},
   "outputs": [
    {
     "data": {
      "image/png": "[encoded data removed]",
      "text/plain": [
       "<Figure size 1080x504 with 1 Axes>"
      ]
     },
     "metadata": {},
     "output_type": "display_data"
    }
   ],
   "source": [
    "plt.figure(figsize=(15,7))\n",
    "plt.scatter(data1.motheduc, data1.fatheduc)\n",
    "sns.regplot(data1.motheduc, data1.fatheduc, scatter=True)\n",
    "plt.title('Correlation motheduc and fatheduc')\n",
    "plt.xlabel('motheduc')\n",
    "plt.ylabel('fatheduc')\n",
    "plt.show()"
   ]
  },
  {
   "cell_type": "markdown",
   "metadata": {},
   "source": [
    "### Explication du problème de multi-collinéarité. Commentaire"
   ]
  },
  {
   "cell_type": "markdown",
   "metadata": {},
   "source": [
    "La multicolinéarité survient lorsque plusieurs variables explicatives du modèle sont fortement colinéaires de sorte que leurs effets sur la variable expliquée pourrait quasiment être identique. En présence de multicolinéarité forte, les conséquences se ressentent sur l'inférence statistique c'est à dire sur la significativité des coefficients estimés. De part le fait que la multicolinéarité forte implique des variances de coefficients estimés élevés, et que celles ci sont utilisés pour effectuer les tests de student de significativité des coefficients, on pourrait en cas de colinéarité forte obtenir des coefficients non sginificatifs alors que ceux le sont bien où vis-versa.\n",
    "\n",
    "Pour ce qui est des variables motheduc et fatheduc leur coefficient de correlation s'établit à 0.55. La correlation forte est atteinte lorsque le coefficient de corrélation tend vers -1 ou 1. Dans ce cas de figure il y a bien correlation entre les deux variables motheduc et fatheduc. Mais cette correlation ne peut etre considérée comme une corrélation forte."
   ]
  },
  {
   "cell_type": "markdown",
   "metadata": {},
   "source": [
    "## <span style='color:rgb(102, 51, 0)'> 5. Faites un graphique en nuage de point entre wage et educ. S'agit-il d'un effet \"toute chose étant égale par ailleurs\" ? </span>"
   ]
  },
  {
   "cell_type": "code",
   "execution_count": 18,
   "metadata": {},
   "outputs": [
    {
     "data": {
      "image/png": "[encoded data removed]",
      "text/plain": [
       "<Figure size 1080x504 with 1 Axes>"
      ]
     },
     "metadata": {},
     "output_type": "display_data"
    }
   ],
   "source": [
    "plt.figure(figsize=(15,7))\n",
    "plt.scatter(data1.educ, data1.wage)\n",
    "#sns.regplot(data1.educ, data1.wage, scatter=True)\n",
    "plt.title('Correlation wage and educ')\n",
    "plt.xlabel('educ')\n",
    "plt.ylabel('wage')\n",
    "plt.show()"
   ]
  },
  {
   "cell_type": "markdown",
   "metadata": {},
   "source": [
    "### Commentaire:\n",
    "Non. Il ne s'agit pas d'un effet \"toute chose étant égale par ailleurs\". En effet, Nous n'avons qu'un nuage de points qui nous donne une idée sur la corrélation entre les deux variables sans pour autant nous permettre d'identifier un effet causal \"toute chose étant égale par ailleurs\". "
   ]
  },
  {
   "cell_type": "markdown",
   "metadata": {},
   "source": [
    "## <span style='color:rgb(102, 51, 0)'>  6 - Quelle est l'hypothèse fondamentale qui garantit des estimateurs non biaisés ? Expliquer le biais de variable omise. </span>"
   ]
  },
  {
   "cell_type": "markdown",
   "metadata": {},
   "source": [
    "L'hypothèse fondementale qui garantit des estimateurs non biaisés est l'hypothèse d'absence de correlation entre les variables explicatives et le terme d'erreur.\n",
    "\n",
    "Le biais de variable omise intervient lorsqu'une variable potentiellement explicative du phénomène est omise dans l'équation de regression. Etant donné que le terme d'erreur englobe toutes les autres variables explicatives non observées, celui ci inclut la variable omise. S'il existe une corrélation entre la variable omise et certaines variables explicatives, vu que la variable omise agit directement sur la variable expliquée, alors il y a bien corrélation entre le terme d'erreur et les explicatives et ceci est source d'endogénéité.\n",
    "\n",
    "Illustration:\n",
    "\n",
    "Equation de départ:\n",
    "\n",
    "$\\Large y_{i} = \\alpha + \\beta x_{i} + \\gamma z_{i} + \\epsilon_{i}$ \n",
    "\n",
    "Equation estimée:        \n",
    "\n",
    "$\\Large y_{i} = \\alpha + \\beta x_{i} + \\epsilon_{i}$  avec $\\Large(\\epsilon_{i} = \\gamma z_{i} + u_{i})$\n",
    "\n",
    "$\\Large z_{i}$ étant la variable omise dans l'équation estimée, il agit directement sur $\\Large y_{i}$. Si $\\Large z_{i}$ et $\\Large x_{i}$ sont correlées, alors il y a bien correlation entre $\\Large x_{i}$ et $\\Large \\epsilon_{i}$ de l'équation estimée. Le coefficient $ \\Large \\beta$ estimé est donc un coefficient biaisé."
   ]
  },
  {
   "cell_type": "markdown",
   "metadata": {},
   "source": [
    "## <span style='color:rgb(102, 51, 0)'>  7 - Faire la régression du log de wage en utilisant comme variables explicatives une constante, city, educ, exper, nwifeinc, kidslt6, kidsgt6. Commentez l'histogramme des résidus. </span>"
   ]
  },
  {
   "cell_type": "code",
   "execution_count": 19,
   "metadata": {},
   "outputs": [
    {
     "name": "stdout",
     "output_type": "stream",
     "text": [
      "                            OLS Regression Results                            \n",
      "==============================================================================\n",
      "Dep. Variable:                  lwage   R-squared:                       0.156\n",
      "Model:                            OLS   Adj. R-squared:                  0.144\n",
      "Method:                 Least Squares   F-statistic:                     12.92\n",
      "Date:                Sun, 12 Apr 2020   Prob (F-statistic):           2.00e-13\n",
      "Time:                        21:31:37   Log-Likelihood:                -431.92\n",
      "No. Observations:                 428   AIC:                             877.8\n",
      "Df Residuals:                     421   BIC:                             906.3\n",
      "Df Model:                           6                                         \n",
      "Covariance Type:            nonrobust                                         \n",
      "==============================================================================\n",
      "                 coef    std err          t      P>|t|      [0.025      0.975]\n",
      "------------------------------------------------------------------------------\n",
      "const         -0.3990      0.207     -1.927      0.055      -0.806       0.008\n",
      "city           0.0353      0.070      0.503      0.616      -0.103       0.173\n",
      "educ           0.1022      0.015      6.771      0.000       0.073       0.132\n",
      "exper          0.0155      0.004      3.452      0.001       0.007       0.024\n",
      "nwifeinc       0.0049      0.003      1.466      0.143      -0.002       0.011\n",
      "kidslt6       -0.0453      0.085     -0.531      0.596      -0.213       0.122\n",
      "kidsge6       -0.0117      0.027     -0.434      0.664      -0.065       0.041\n",
      "==============================================================================\n",
      "Omnibus:                       79.542   Durbin-Watson:                   1.979\n",
      "Prob(Omnibus):                  0.000   Jarque-Bera (JB):              287.193\n",
      "Skew:                          -0.795   Prob(JB):                     4.33e-63\n",
      "Kurtosis:                       6.685   Cond. No.                         178.\n",
      "==============================================================================\n",
      "\n",
      "Warnings:\n",
      "[1] Standard Errors assume that the covariance matrix of the errors is correctly specified.\n"
     ]
    },
    {
     "name": "stderr",
     "output_type": "stream",
     "text": [
      "/home/ongono/anaconda3/lib/python3.7/site-packages/numpy/core/fromnumeric.py:2495: FutureWarning: Method .ptp is deprecated and will be removed in a future version. Use numpy.ptp instead.\n",
      "  return ptp(axis=axis, out=out, **kwargs)\n"
     ]
    }
   ],
   "source": [
    "cols = ['city', 'educ', 'exper', 'nwifeinc', 'kidslt6', 'kidsge6']\n",
    "X = data1[cols]\n",
    "Y = data1.lwage\n",
    "model = sm.OLS(Y, sm.add_constant(X)).fit()\n",
    "print(model.summary())"
   ]
  },
  {
   "cell_type": "markdown",
   "metadata": {},
   "source": [
    "### Histogramme des résidus et commentaire"
   ]
  },
  {
   "cell_type": "code",
   "execution_count": 20,
   "metadata": {},
   "outputs": [
    {
     "data": {
      "image/png": "[encoded data removed]",
      "text/plain": [
       "<Figure size 1080x504 with 1 Axes>"
      ]
     },
     "metadata": {},
     "output_type": "display_data"
    }
   ],
   "source": [
    "residuals = model.resid\n",
    "\n",
    "plt.figure(figsize=(15, 7))\n",
    "plt.title(\"Histogramme des résidus\", fontsize=15)\n",
    "sns.distplot(residuals, bins=25, label='Residuals histogram', hist_kws=dict(alpha=0.25))\n",
    "\n",
    "plt.legend()\n",
    "plt.show()"
   ]
  },
  {
   "cell_type": "markdown",
   "metadata": {},
   "source": [
    "### Commentaire:\n",
    "\n",
    "L'histogramme ci-dessus montre que la distribution des résidus a tendance à suivre une loi normale. La statistique skeweness associée étant relativement proche de 0, on peut conclure que la distribution des résidus est quasi symétrique (Cf. tableau des résultats)."
   ]
  },
  {
   "cell_type": "markdown",
   "metadata": {},
   "source": [
    "\n",
    "## <span style='color:rgb(102, 51, 0)'>  8. Tester l'hypothèse de non significativité de nwifeinc avec un seuil de significativité de 1%, 5% et 10% (test alternatif des deux côtés). Commentez les p-values. </span>"
   ]
  },
  {
   "cell_type": "markdown",
   "metadata": {},
   "source": [
    "En considérant le coefficient associé nwifeinc comme $\\Large \\beta_{nwifeinc}$, les hypothèses à tester sont:\n",
    "\n",
    "$\\Large H_0 : \\beta_{nwifeinc} = 0 $\n",
    "\n",
    "$\\Large H_1 : \\beta_{nwifeinc} ≠ 0 $\n",
    "\n",
    "La statistique du test est donnée par:\n",
    "\n",
    "$\\Large t_{nwifeinc} = \\frac {|\\hat{\\beta}_{nwifeinc} - \\beta_{nwifeinc}|} {\\hat{\\sigma}_{nwifeinc}} $\n",
    "\n",
    "Sous l'hypothèse nulle $\\Large H_0 $, la statistique de test devient:\n",
    "\n",
    "$\\Large t_{nwifeinc} = \\frac {|\\hat{\\beta}_{nwifeinc}|} {\\hat{\\sigma}_{nwifeinc}} $\n",
    "\n",
    "Puis l'on compare cette statistique de test à une valeur critique $\\Large {t_{n-k}}^{\\alpha \\%} $, $\\large k$ étant le nombre de coefficients à estimer et $\\large n$ le nombre de variables ou d'observations du modèle, $ \\large \\alpha $ étant le seuil de significativité.\n",
    "\n",
    "Si la statistique de test est supérieure à la valeur critique, on rejette $\\Large H_0 $."
   ]
  },
  {
   "cell_type": "markdown",
   "metadata": {},
   "source": [
    "### Test de significativité de student à 1%, 5% et 10%"
   ]
  },
  {
   "cell_type": "code",
   "execution_count": 21,
   "metadata": {},
   "outputs": [
    {
     "name": "stdout",
     "output_type": "stream",
     "text": [
      "                            OLS Regression Results                            \n",
      "==============================================================================\n",
      "Dep. Variable:                  lwage   R-squared:                       0.156\n",
      "Model:                            OLS   Adj. R-squared:                  0.144\n",
      "Method:                 Least Squares   F-statistic:                     12.92\n",
      "Date:                Sun, 12 Apr 2020   Prob (F-statistic):           2.00e-13\n",
      "Time:                        21:35:45   Log-Likelihood:                -431.92\n",
      "No. Observations:                 428   AIC:                             877.8\n",
      "Df Residuals:                     421   BIC:                             906.3\n",
      "Df Model:                           6                                         \n",
      "Covariance Type:            nonrobust                                         \n",
      "==============================================================================\n",
      "                 coef    std err          t      P>|t|      [0.025      0.975]\n",
      "------------------------------------------------------------------------------\n",
      "const         -0.3990      0.207     -1.927      0.055      -0.806       0.008\n",
      "city           0.0353      0.070      0.503      0.616      -0.103       0.173\n",
      "educ           0.1022      0.015      6.771      0.000       0.073       0.132\n",
      "exper          0.0155      0.004      3.452      0.001       0.007       0.024\n",
      "nwifeinc       0.0049      0.003      1.466      0.143      -0.002       0.011\n",
      "kidslt6       -0.0453      0.085     -0.531      0.596      -0.213       0.122\n",
      "kidsge6       -0.0117      0.027     -0.434      0.664      -0.065       0.041\n",
      "==============================================================================\n",
      "Omnibus:                       79.542   Durbin-Watson:                   1.979\n",
      "Prob(Omnibus):                  0.000   Jarque-Bera (JB):              287.193\n",
      "Skew:                          -0.795   Prob(JB):                     4.33e-63\n",
      "Kurtosis:                       6.685   Cond. No.                         178.\n",
      "==============================================================================\n",
      "\n",
      "Warnings:\n",
      "[1] Standard Errors assume that the covariance matrix of the errors is correctly specified.\n"
     ]
    }
   ],
   "source": [
    "print(model.summary())"
   ]
  },
  {
   "cell_type": "markdown",
   "metadata": {},
   "source": [
    "Ce tableau de résultat fournit la p-value de la variable \"nwifeinc\". Celle ci correspond à la valeur 0.143 qui se trouve supérieur à 1%, 5% et 10%. On conclut que cette variable n'est pas significtive pour ces seuils."
   ]
  },
  {
   "cell_type": "markdown",
   "metadata": {},
   "source": [
    "## <span style='color:rgb(102, 51, 0)'>  9- Tester l’hypothèse que le coefficient associé à nwifeinc est égal à 0.01 avec un seuil de significativité de 5% (test à alternatif des deux côtés) </span>"
   ]
  },
  {
   "cell_type": "markdown",
   "metadata": {},
   "source": [
    "### Coefficients estimés"
   ]
  },
  {
   "cell_type": "code",
   "execution_count": 22,
   "metadata": {},
   "outputs": [
    {
     "name": "stdout",
     "output_type": "stream",
     "text": [
      "const      -0.398975\n",
      "city        0.035268\n",
      "educ        0.102248\n",
      "exper       0.015488\n",
      "nwifeinc    0.004883\n",
      "kidslt6    -0.045303\n",
      "kidsge6    -0.011704\n",
      "dtype: float64 const       0.207050\n",
      "city        0.070178\n",
      "educ        0.015102\n",
      "exper       0.004487\n",
      "nwifeinc    0.003331\n",
      "kidslt6     0.085308\n",
      "kidsge6     0.026944\n",
      "dtype: float64\n"
     ]
    }
   ],
   "source": [
    "print(model.params, model.bse)"
   ]
  },
  {
   "cell_type": "markdown",
   "metadata": {},
   "source": [
    "## Test"
   ]
  },
  {
   "cell_type": "markdown",
   "metadata": {},
   "source": [
    "$\\Large H_0 : \\beta_{nwifeinc} = 0.01 $\n",
    "\n",
    "$\\Large H_1 : \\beta_{nwifeinc} ≠ 0.01 $"
   ]
  },
  {
   "cell_type": "markdown",
   "metadata": {},
   "source": [
    "La statistique du test est donnée par:\n",
    "\n",
    "$\\Large t_{nwifeinc} = \\frac {|\\hat{\\beta}_{nwifeinc} - \\beta_{nwifeinc}|} {\\hat{\\sigma}_{nwifeinc}} $ car $ \\Large variance(\\hat{\\beta}_{nwifeinc} - 0.01) = var (\\hat{\\beta}_{nwifeinc})$ \n",
    "\n",
    "Sous l'hypothèse nulle $\\Large H_0 $, la statistique de test devient:\n",
    "\n",
    "$\\Large t_{nwifeinc} = \\frac {|\\hat{\\beta}_{nwifeinc} - 0.01|} {\\hat{\\sigma}_{nwifeinc}} = t_{cal}$\n",
    "\n",
    "En application numérique:\n",
    "\n",
    "$\\Large t_{nwifeinc} = \\frac {|0.004883 - 0.01|} {0.003331}= t_{cal}= 1.5361 $ \n",
    "\n",
    "$\\Large {t_{428-7}}^{5\\%} = t_{lu}$"
   ]
  },
  {
   "cell_type": "markdown",
   "metadata": {},
   "source": [
    "### Seuil de significativité généralement appeleé t_lu"
   ]
  },
  {
   "cell_type": "code",
   "execution_count": 23,
   "metadata": {},
   "outputs": [
    {
     "data": {
      "text/plain": [
       "1.965614792008086"
      ]
     },
     "execution_count": 23,
     "metadata": {},
     "output_type": "execute_result"
    }
   ],
   "source": [
    "t_lu = t.ppf(0.975,df=421)\n",
    "t_lu"
   ]
  },
  {
   "cell_type": "markdown",
   "metadata": {},
   "source": [
    "## Commentaire:\n",
    "\n",
    " La statistique $ \\large t_{cal}$ de student est inferieure à la statistique observée au seuil de significativité de 5% ($\\large t_{lu}$). On ne peut donc pas rejeter l'hypothèse nulle $\\large H_0$.\n",
    " \n",
    "Ceci voudrait dire que la différence $\\large (\\beta_{nwifeinc} - 0.01)$ n'est pas statistiquement significative. Le coefficient $\\large \\beta_{nwifeinc}$ n'est pas statistiquement différent de $\\large 0.01$."
   ]
  },
  {
   "cell_type": "markdown",
   "metadata": {},
   "source": [
    "## <span style='color:rgb(102, 51, 0)'>  10. Tester l’hypothèse jointe que le coefficient de nwifeinc est égal à 0.01 et que celui de city est égal à 0.05 </span>"
   ]
  },
  {
   "cell_type": "markdown",
   "metadata": {},
   "source": [
    "### Le modèle non contraint:\n",
    "\n",
    "$ \\large y = \\beta_{0}  + \\beta_{1} city + \\beta_{2} educ + \\beta_{3} exper + \\beta_{4} nwifeinc + \\beta_{5} kidslt6 + \\beta_{6} kidsge6$\n",
    "\n",
    "### Le modèle contraint:\n",
    "\n",
    "$ \\large y = \\beta_{0}  +  0.05 city + \\beta_{2} educ + \\beta_{3} exper +  0.01 nwifeinc + \\beta_{5} kidslt6 + \\beta_{6} kidsge6$\n",
    "\n",
    "ce qui équivaut à:\n",
    "\n",
    "\n",
    "$ \\large (y - 0.05 city - 0.01 nwifeinc) = \\beta_{0}  + \\beta_{2} educ + \\beta_{3} exper + \\beta_{5} kidslt6 + \\beta_{6} kidsge6$\n",
    "\n",
    "## Test:\n",
    "\n",
    "$\\large H_0 : \\beta_{nwifeinc} = 0.01, \\beta_{city} = 0.05 $"
   ]
  },
  {
   "cell_type": "markdown",
   "metadata": {},
   "source": [
    "### Modèle non contraint"
   ]
  },
  {
   "cell_type": "code",
   "execution_count": 24,
   "metadata": {},
   "outputs": [
    {
     "name": "stdout",
     "output_type": "stream",
     "text": [
      "                            OLS Regression Results                            \n",
      "==============================================================================\n",
      "Dep. Variable:                  lwage   R-squared:                       0.156\n",
      "Model:                            OLS   Adj. R-squared:                  0.144\n",
      "Method:                 Least Squares   F-statistic:                     12.92\n",
      "Date:                Sun, 12 Apr 2020   Prob (F-statistic):           2.00e-13\n",
      "Time:                        21:35:49   Log-Likelihood:                -431.92\n",
      "No. Observations:                 428   AIC:                             877.8\n",
      "Df Residuals:                     421   BIC:                             906.3\n",
      "Df Model:                           6                                         \n",
      "Covariance Type:            nonrobust                                         \n",
      "==============================================================================\n",
      "                 coef    std err          t      P>|t|      [0.025      0.975]\n",
      "------------------------------------------------------------------------------\n",
      "const         -0.3990      0.207     -1.927      0.055      -0.806       0.008\n",
      "city           0.0353      0.070      0.503      0.616      -0.103       0.173\n",
      "educ           0.1022      0.015      6.771      0.000       0.073       0.132\n",
      "exper          0.0155      0.004      3.452      0.001       0.007       0.024\n",
      "nwifeinc       0.0049      0.003      1.466      0.143      -0.002       0.011\n",
      "kidslt6       -0.0453      0.085     -0.531      0.596      -0.213       0.122\n",
      "kidsge6       -0.0117      0.027     -0.434      0.664      -0.065       0.041\n",
      "==============================================================================\n",
      "Omnibus:                       79.542   Durbin-Watson:                   1.979\n",
      "Prob(Omnibus):                  0.000   Jarque-Bera (JB):              287.193\n",
      "Skew:                          -0.795   Prob(JB):                     4.33e-63\n",
      "Kurtosis:                       6.685   Cond. No.                         178.\n",
      "==============================================================================\n",
      "\n",
      "Warnings:\n",
      "[1] Standard Errors assume that the covariance matrix of the errors is correctly specified.\n",
      "188.58998019263944\n"
     ]
    }
   ],
   "source": [
    "X = data1[cols]\n",
    "Y = data1.lwage\n",
    "\n",
    "model1=sm.OLS(Y, sm.add_constant(X))\n",
    "results = model1.fit()\n",
    "print(results.summary())\n",
    "u=results.resid\n",
    "SSR0=u.T@u\n",
    "print(SSR0)"
   ]
  },
  {
   "cell_type": "markdown",
   "metadata": {},
   "source": [
    "### Modèle contraint"
   ]
  },
  {
   "cell_type": "code",
   "execution_count": 25,
   "metadata": {},
   "outputs": [
    {
     "name": "stdout",
     "output_type": "stream",
     "text": [
      "                            OLS Regression Results                            \n",
      "==============================================================================\n",
      "Dep. Variable:                      y   R-squared:                       0.130\n",
      "Model:                            OLS   Adj. R-squared:                  0.122\n",
      "Method:                 Least Squares   F-statistic:                     15.84\n",
      "Date:                Sun, 12 Apr 2020   Prob (F-statistic):           4.34e-12\n",
      "Time:                        21:35:50   Log-Likelihood:                -433.28\n",
      "No. Observations:                 428   AIC:                             876.6\n",
      "Df Residuals:                     423   BIC:                             896.9\n",
      "Df Model:                           4                                         \n",
      "Covariance Type:            nonrobust                                         \n",
      "==============================================================================\n",
      "                 coef    std err          t      P>|t|      [0.025      0.975]\n",
      "------------------------------------------------------------------------------\n",
      "const         -0.4287      0.206     -2.082      0.038      -0.833      -0.024\n",
      "educ           0.0948      0.014      6.586      0.000       0.067       0.123\n",
      "exper          0.0167      0.004      3.765      0.000       0.008       0.025\n",
      "kidslt6       -0.0316      0.085     -0.372      0.710      -0.199       0.135\n",
      "kidsge6       -0.0114      0.027     -0.422      0.673      -0.064       0.042\n",
      "==============================================================================\n",
      "Omnibus:                       76.581   Durbin-Watson:                   1.976\n",
      "Prob(Omnibus):                  0.000   Jarque-Bera (JB):              263.518\n",
      "Skew:                          -0.779   Prob(JB):                     6.00e-58\n",
      "Kurtosis:                       6.514   Cond. No.                         123.\n",
      "==============================================================================\n",
      "\n",
      "Warnings:\n",
      "[1] Standard Errors assume that the covariance matrix of the errors is correctly specified.\n",
      "189.78788085217226\n"
     ]
    }
   ],
   "source": [
    "cols_c = ['educ', 'exper', 'kidslt6', 'kidsge6']\n",
    "Xc = data1[cols_c]\n",
    "Yc = data1.lwage - 0.05*data1.city - 0.01*data1.nwifeinc\n",
    "\n",
    "model2 = sm.OLS(Yc, sm.add_constant(Xc))\n",
    "results = model2.fit()\n",
    "print(results.summary())\n",
    "uc = results.resid\n",
    "SSR1 = uc.T@uc\n",
    "print(SSR1)"
   ]
  },
  {
   "cell_type": "code",
   "execution_count": 26,
   "metadata": {},
   "outputs": [
    {
     "name": "stdout",
     "output_type": "stream",
     "text": [
      "La statistique du test de Fisher joint est:1.3370704454928417\n",
      "La p valeur associée à cette statistique est:0.2637267136252716\n"
     ]
    }
   ],
   "source": [
    "n = 428\n",
    "k = 7\n",
    "F=((SSR1-SSR0)/2)/(SSR0/(n-k))\n",
    "print('La statistique du test de Fisher joint est:{}'.format(F))\n",
    "pval = f.sf(F,2,n-k)\n",
    "print('La p valeur associée à cette statistique est:{}'.format(pval))"
   ]
  },
  {
   "cell_type": "markdown",
   "metadata": {},
   "source": [
    "### Commentaire:\n",
    "\n",
    "La p value étant élevée par rapport au seuil de 5%, on ne rejette pas l'hypothèse $\\large H_0$. Par conséquent, les coefficients $\\large \\beta_{nwifeinc}$ et $ \\large \\beta_{city}$ ne sont pas conjointement et statistiquement différents des valeurs respectives de 0.01 et 0.05  "
   ]
  },
  {
   "cell_type": "markdown",
   "metadata": {},
   "source": [
    "## <span style='color:rgb(102, 51, 0)'>  11. Tester l’hypothèse jointe que  𝛽nwifeinc +𝛽city = 0.1   et    𝛽 educ +𝛽 exper = 0.1 </span>"
   ]
  },
  {
   "cell_type": "markdown",
   "metadata": {},
   "source": [
    "## Test:\n",
    "\n",
    "$\\large H_0 : \\beta_{4} + \\beta_{1} = 0.1, \\beta_{2} + \\beta_{3} = 0.1 $"
   ]
  },
  {
   "cell_type": "markdown",
   "metadata": {},
   "source": [
    "### Le modèle non contraint:\n",
    "\n",
    "$ \\large y = \\beta_{0}  + \\beta_{1} city + \\beta_{2} educ + \\beta_{3} exper + \\beta_{4} nwifeinc + \\beta_{5} kidslt6 + \\beta_{6} kidsge6$"
   ]
  },
  {
   "cell_type": "markdown",
   "metadata": {},
   "source": [
    "### Le modèle contraint:\n",
    "\n",
    "$ \\large y = \\beta_{0}  +  (0.1 - \\beta_{4})  city + \\beta_{2} educ + (0.1 - \\beta_{2}) exper +  \\beta_{4} nwifeinc + \\beta_{5} kidslt6 + \\beta_{6} kidsge6$\n",
    "\n",
    "Après substitution on obtient:\n",
    "\n",
    "$ \\large (y - 0.1 city - 0.1 exper) = \\beta_{0} - \\beta_{4} city + \\beta_{2} educ - \\beta_{2} exper + \\beta_{4} nwifeinc + \\beta_{5} kidslt6 + \\beta_{6} kidsge6 $\n",
    "\n",
    "Après arrangement on a:\n",
    "\n",
    "$ \\large (y - 0.1 city - 0.1 exper) = \\beta_{0} + \\beta_{4} (nwifeinc - city) + \\beta_{2} (educ - exper) +  \\beta_{5} kidslt6 + \\beta_{6} kidsge6 $"
   ]
  },
  {
   "cell_type": "markdown",
   "metadata": {},
   "source": [
    "### Estimation du modèle contraint"
   ]
  },
  {
   "cell_type": "code",
   "execution_count": 27,
   "metadata": {},
   "outputs": [],
   "source": [
    "# Nous allons créer deux nouvelles colonnes new_col1 et new_col2 correspondant aux variables en différence\n",
    "data1['new_col1'] = data1.nwifeinc - data1.city\n",
    "data1['new_col2'] = data1.educ - data1.exper"
   ]
  },
  {
   "cell_type": "code",
   "execution_count": 28,
   "metadata": {},
   "outputs": [
    {
     "name": "stdout",
     "output_type": "stream",
     "text": [
      "                            OLS Regression Results                            \n",
      "==============================================================================\n",
      "Dep. Variable:                      y   R-squared:                       0.543\n",
      "Model:                            OLS   Adj. R-squared:                  0.539\n",
      "Method:                 Least Squares   F-statistic:                     125.9\n",
      "Date:                Sun, 12 Apr 2020   Prob (F-statistic):           1.11e-70\n",
      "Time:                        21:35:52   Log-Likelihood:                -432.86\n",
      "No. Observations:                 428   AIC:                             875.7\n",
      "Df Residuals:                     423   BIC:                             896.0\n",
      "Df Model:                           4                                         \n",
      "Covariance Type:            nonrobust                                         \n",
      "==============================================================================\n",
      "                 coef    std err          t      P>|t|      [0.025      0.975]\n",
      "------------------------------------------------------------------------------\n",
      "const         -0.2133      0.079     -2.700      0.007      -0.369      -0.058\n",
      "new_col1       0.0052      0.003      1.626      0.105      -0.001       0.011\n",
      "new_col2       0.0859      0.004     19.888      0.000       0.077       0.094\n",
      "kidslt6       -0.0371      0.085     -0.437      0.662      -0.204       0.130\n",
      "kidsge6       -0.0159      0.026     -0.606      0.545      -0.068       0.036\n",
      "==============================================================================\n",
      "Omnibus:                       78.883   Durbin-Watson:                   1.973\n",
      "Prob(Omnibus):                  0.000   Jarque-Bera (JB):              272.220\n",
      "Skew:                          -0.803   Prob(JB):                     7.73e-60\n",
      "Kurtosis:                       6.562   Cond. No.                         59.4\n",
      "==============================================================================\n",
      "\n",
      "Warnings:\n",
      "[1] Standard Errors assume that the covariance matrix of the errors is correctly specified.\n",
      "189.4166475528712\n"
     ]
    }
   ],
   "source": [
    "# Nous estimons le modèle en prenant en compte les changements de variables effectués\n",
    "cols = ['new_col1', 'new_col2', 'kidslt6', 'kidsge6']\n",
    "X = data1[cols]\n",
    "Y = data1.lwage - 0.1*data1.city - 0.1*data1.exper\n",
    "\n",
    "model = sm.OLS(Y, sm.add_constant(X))\n",
    "results = model.fit()\n",
    "print(results.summary())\n",
    "u = results.resid\n",
    "SSRc = u.T@u\n",
    "print(SSRc)"
   ]
  },
  {
   "cell_type": "code",
   "execution_count": 29,
   "metadata": {},
   "outputs": [
    {
     "name": "stdout",
     "output_type": "stream",
     "text": [
      "La statistique du test de Fisher joint est:0.9227079781812212\n",
      "La p valeur associée à cette statistique est:0.3982435347480656\n"
     ]
    }
   ],
   "source": [
    "n = 428\n",
    "k = 7\n",
    "F=((SSRc-SSR0)/2)/(SSR0/(n-k))\n",
    "print('La statistique du test de Fisher joint est:{}'.format(F))\n",
    "pval = f.sf(F,2,n-k)\n",
    "print('La p valeur associée à cette statistique est:{}'.format(pval))"
   ]
  },
  {
   "cell_type": "markdown",
   "metadata": {},
   "source": [
    "### Commentaire: \n",
    "\n",
    "On ne peut rejeter l'hypothèse nulle dans ce cas de figure. On conclut que les sommes respectives  $\\large \\beta_{4} + \\beta_{1} $ et  $\\large \\beta_{2} + \\beta_{3}$ ne sont pas conjointement et statistiquement différentes de 0.1."
   ]
  },
  {
   "cell_type": "markdown",
   "metadata": {},
   "source": [
    "## <span style='color:rgb(102, 51, 0)'>  12. Faites une représentation graphique de la manière dont le salaire augmente avec l’éducation et l’expérience professionnelle. Commentez </span>"
   ]
  },
  {
   "cell_type": "code",
   "execution_count": 30,
   "metadata": {},
   "outputs": [
    {
     "data": {
      "text/html": [
       "<div>\n",
       "<style scoped>\n",
       "    .dataframe tbody tr th:only-of-type {\n",
       "        vertical-align: middle;\n",
       "    }\n",
       "\n",
       "    .dataframe tbody tr th {\n",
       "        vertical-align: top;\n",
       "    }\n",
       "\n",
       "    .dataframe thead th {\n",
       "        text-align: right;\n",
       "    }\n",
       "</style>\n",
       "<table border=\"1\" class=\"dataframe\">\n",
       "  <thead>\n",
       "    <tr style=\"text-align: right;\">\n",
       "      <th></th>\n",
       "      <th>educ</th>\n",
       "      <th>exper</th>\n",
       "      <th>wage</th>\n",
       "    </tr>\n",
       "  </thead>\n",
       "  <tbody>\n",
       "    <tr>\n",
       "      <td>0</td>\n",
       "      <td>12</td>\n",
       "      <td>14</td>\n",
       "      <td>3.3540</td>\n",
       "    </tr>\n",
       "    <tr>\n",
       "      <td>1</td>\n",
       "      <td>12</td>\n",
       "      <td>5</td>\n",
       "      <td>1.3889</td>\n",
       "    </tr>\n",
       "    <tr>\n",
       "      <td>2</td>\n",
       "      <td>12</td>\n",
       "      <td>15</td>\n",
       "      <td>4.5455</td>\n",
       "    </tr>\n",
       "    <tr>\n",
       "      <td>3</td>\n",
       "      <td>12</td>\n",
       "      <td>6</td>\n",
       "      <td>1.0965</td>\n",
       "    </tr>\n",
       "    <tr>\n",
       "      <td>4</td>\n",
       "      <td>14</td>\n",
       "      <td>7</td>\n",
       "      <td>4.5918</td>\n",
       "    </tr>\n",
       "    <tr>\n",
       "      <td>...</td>\n",
       "      <td>...</td>\n",
       "      <td>...</td>\n",
       "      <td>...</td>\n",
       "    </tr>\n",
       "    <tr>\n",
       "      <td>423</td>\n",
       "      <td>10</td>\n",
       "      <td>2</td>\n",
       "      <td>2.3118</td>\n",
       "    </tr>\n",
       "    <tr>\n",
       "      <td>424</td>\n",
       "      <td>12</td>\n",
       "      <td>21</td>\n",
       "      <td>5.3061</td>\n",
       "    </tr>\n",
       "    <tr>\n",
       "      <td>425</td>\n",
       "      <td>13</td>\n",
       "      <td>22</td>\n",
       "      <td>5.8675</td>\n",
       "    </tr>\n",
       "    <tr>\n",
       "      <td>426</td>\n",
       "      <td>12</td>\n",
       "      <td>14</td>\n",
       "      <td>3.4091</td>\n",
       "    </tr>\n",
       "    <tr>\n",
       "      <td>427</td>\n",
       "      <td>12</td>\n",
       "      <td>7</td>\n",
       "      <td>4.0816</td>\n",
       "    </tr>\n",
       "  </tbody>\n",
       "</table>\n",
       "<p>428 rows × 3 columns</p>\n",
       "</div>"
      ],
      "text/plain": [
       "     educ  exper    wage\n",
       "0      12     14  3.3540\n",
       "1      12      5  1.3889\n",
       "2      12     15  4.5455\n",
       "3      12      6  1.0965\n",
       "4      14      7  4.5918\n",
       "..    ...    ...     ...\n",
       "423    10      2  2.3118\n",
       "424    12     21  5.3061\n",
       "425    13     22  5.8675\n",
       "426    12     14  3.4091\n",
       "427    12      7  4.0816\n",
       "\n",
       "[428 rows x 3 columns]"
      ]
     },
     "execution_count": 30,
     "metadata": {},
     "output_type": "execute_result"
    }
   ],
   "source": [
    "data1[['educ', 'exper', 'wage']]"
   ]
  },
  {
   "cell_type": "code",
   "execution_count": 31,
   "metadata": {},
   "outputs": [
    {
     "data": {
      "image/png": "[encoded data removed]",
      "text/plain": [
       "<Figure size 1080x576 with 1 Axes>"
      ]
     },
     "metadata": {},
     "output_type": "display_data"
    }
   ],
   "source": [
    "plt.figure(figsize=(15,8))\n",
    "#plt.scatter(data1.educ, data1.wage)\n",
    "sns.regplot(data1.educ + data1.exper, data1.wage, scatter=True)\n",
    "plt.title('Correlation wage and educ')\n",
    "plt.xlabel('educ + exper')\n",
    "plt.ylabel('wage')\n",
    "plt.show()"
   ]
  },
  {
   "cell_type": "markdown",
   "metadata": {},
   "source": [
    "### Commentaire:\n",
    "  \n",
    "    Ce graphique montre comment le salaire évolue linéairement avec l'éducation et l'expérience. On peut remarquer que cette évolution n'est pas aussi forte car la pente réprésentant celle ci est faible. Mais il est certain qu'il s'agit bien d'une évolution positive. "
   ]
  },
  {
   "cell_type": "markdown",
   "metadata": {},
   "source": [
    "## <span style='color:rgb(102, 51, 0)'>  13. Tester l’égalité des coefficients associés aux variables kidsgt6 et kidslt6. Interprétez </span>"
   ]
  },
  {
   "cell_type": "markdown",
   "metadata": {},
   "source": [
    "## Test:\n",
    "\n",
    "$\\large H_0 : \\beta_{5} = \\beta_{6} $"
   ]
  },
  {
   "cell_type": "markdown",
   "metadata": {},
   "source": [
    "### Le modèle non contraint:\n",
    "\n",
    "$ \\large y = \\beta_{0}  + \\beta_{1} city + \\beta_{2} educ + \\beta_{3} exper + \\beta_{4} nwifeinc + \\beta_{5} kidslt6 + \\beta_{6} kidsge6$"
   ]
  },
  {
   "cell_type": "markdown",
   "metadata": {},
   "source": [
    "### Le modèle contraint:\n",
    "$ \\large y = \\beta_{0}  + \\beta_{1} city + \\beta_{2} educ + \\beta_{3} exper + \\beta_{4} nwifeinc + \\beta_{5} (kidslt6 + kidsge6)$"
   ]
  },
  {
   "cell_type": "markdown",
   "metadata": {},
   "source": [
    "### Estimation du modèle contraint"
   ]
  },
  {
   "cell_type": "code",
   "execution_count": 32,
   "metadata": {},
   "outputs": [],
   "source": [
    "# Nous allons créer une nouvelle colonne col_new \n",
    "data1['col_new'] = data1.kidslt6 + data1.kidsge6"
   ]
  },
  {
   "cell_type": "code",
   "execution_count": 33,
   "metadata": {},
   "outputs": [],
   "source": [
    "# Nous estimons le modèle en prenant en compte les changements de variables effectués\n",
    "cols = ['city', 'educ', 'exper', 'nwifeinc', 'col_new']\n",
    "X = data1[cols]\n",
    "Y = data1.lwage"
   ]
  },
  {
   "cell_type": "code",
   "execution_count": 34,
   "metadata": {},
   "outputs": [
    {
     "name": "stdout",
     "output_type": "stream",
     "text": [
      "                            OLS Regression Results                            \n",
      "==============================================================================\n",
      "Dep. Variable:                  lwage   R-squared:                       0.155\n",
      "Model:                            OLS   Adj. R-squared:                  0.145\n",
      "Method:                 Least Squares   F-statistic:                     15.51\n",
      "Date:                Sun, 12 Apr 2020   Prob (F-statistic):           5.10e-14\n",
      "Time:                        21:35:55   Log-Likelihood:                -431.99\n",
      "No. Observations:                 428   AIC:                             876.0\n",
      "Df Residuals:                     422   BIC:                             900.3\n",
      "Df Model:                           5                                         \n",
      "Covariance Type:            nonrobust                                         \n",
      "==============================================================================\n",
      "                 coef    std err          t      P>|t|      [0.025      0.975]\n",
      "------------------------------------------------------------------------------\n",
      "const         -0.3892      0.205     -1.897      0.058      -0.793       0.014\n",
      "city           0.0343      0.070      0.490      0.625      -0.103       0.172\n",
      "educ           0.1013      0.015      6.817      0.000       0.072       0.130\n",
      "exper          0.0156      0.004      3.479      0.001       0.007       0.024\n",
      "nwifeinc       0.0050      0.003      1.513      0.131      -0.001       0.012\n",
      "col_new       -0.0150      0.025     -0.592      0.554      -0.065       0.035\n",
      "==============================================================================\n",
      "Omnibus:                       79.776   Durbin-Watson:                   1.979\n",
      "Prob(Omnibus):                  0.000   Jarque-Bera (JB):              286.697\n",
      "Skew:                          -0.799   Prob(JB):                     5.55e-63\n",
      "Kurtosis:                       6.678   Cond. No.                         176.\n",
      "==============================================================================\n",
      "\n",
      "Warnings:\n",
      "[1] Standard Errors assume that the covariance matrix of the errors is correctly specified.\n",
      "188.6518861365212\n"
     ]
    }
   ],
   "source": [
    "model = sm.OLS(Y, sm.add_constant(X))\n",
    "results = model.fit()\n",
    "print(results.summary())\n",
    "u = results.resid\n",
    "SSRc1 = u.T@u\n",
    "print(SSRc1)"
   ]
  },
  {
   "cell_type": "code",
   "execution_count": 35,
   "metadata": {},
   "outputs": [
    {
     "name": "stdout",
     "output_type": "stream",
     "text": [
      "La statistique du test de Fisher joint est:0.1381961138529024\n",
      "La p valeur associée à cette statistique est:0.7102679748433033\n"
     ]
    }
   ],
   "source": [
    "n = 428\n",
    "k = 7\n",
    "F=((SSRc1-SSR0)/1)/(SSR0/(n-k))\n",
    "print('La statistique du test de Fisher joint est:{}'.format(F))\n",
    "pval = f.sf(F,1,n-k)\n",
    "print('La p valeur associée à cette statistique est:{}'.format(pval))"
   ]
  },
  {
   "cell_type": "markdown",
   "metadata": {},
   "source": [
    "### Commentaire:\n",
    "\n",
    "On ne rejette pas l'hypothèse $\\large H_0 : \\beta_{5} = \\beta_{6} $.\n",
    "\n",
    "Le coefficient $\\large \\beta_{5}$ n'est donc pas statistiquement différent du coefficient $\\large \\beta_{6} $. "
   ]
  },
  {
   "cell_type": "markdown",
   "metadata": {},
   "source": [
    "## <span style='color:rgb(102, 51, 0)'>  14 - Faire le test d'hétéroscédasticité de forme linéaire en donnant la p-valeur. Déterminer la ou les sources d’hétéroscédasticité et corriger avec les méthodes vues en cours. Comparer les écarts-types des coefficients estimés avec ceux obtenus à la question 7. Commenter. </span>"
   ]
  },
  {
   "cell_type": "markdown",
   "metadata": {},
   "source": [
    "## Observation graphique des résidus"
   ]
  },
  {
   "cell_type": "code",
   "execution_count": 36,
   "metadata": {},
   "outputs": [],
   "source": [
    "cols = ['city', 'educ', 'exper', 'nwifeinc', 'kidslt6', 'kidsge6']\n",
    "X = data1[cols]\n",
    "Y = data1.lwage\n",
    "\n",
    "model = sm.OLS(Y, sm.add_constant(X))\n",
    "results = model.fit()\n",
    "u = results.resid"
   ]
  },
  {
   "cell_type": "code",
   "execution_count": 37,
   "metadata": {},
   "outputs": [
    {
     "data": {
      "image/png": "[encoded data removed]",
      "text/plain": [
       "<Figure size 720x576 with 4 Axes>"
      ]
     },
     "metadata": {},
     "output_type": "display_data"
    }
   ],
   "source": [
    "import matplotlib.pyplot as plt\n",
    "fig = plt.figure(num = 0, figsize = (10, 8))\n",
    "plot_opts = dict(linestyle = \"None\", marker = \"o\", color = \"black\", markerfacecolor = \"None\")\n",
    "_ = fig.add_subplot(2, 2, 1).plot(model.fit().resid, **plot_opts)\n",
    "_ = plt.title(\"Residuals Plot\")\n",
    "_ = fig.add_subplot(2, 2, 2).plot(model.fit().fittedvalues, model.fit().resid, **plot_opts)\n",
    "_ = plt.title(\"Residuals vs Fitted\")\n",
    "_ = fig.add_subplot(2, 2, 3).plot(data1.educ, model.fit().resid, **plot_opts)\n",
    "_ = plt.title(\"Residuals vs $educ$\")\n",
    "_ = fig.add_subplot(2, 2, 4).plot(data1.exper, model.fit().resid, **plot_opts)\n",
    "_ = plt.title(\"Residuals vs $exper$\")\n",
    "_ = plt.tight_layout()\n",
    "plt.show()"
   ]
  },
  {
   "cell_type": "markdown",
   "metadata": {},
   "source": [
    "L'observation des figures ci-dessus montrent bien qu'il est possible qu'il y ait une faible hétéroscédasticité. La figure \"residuals plot\" par exemple montre que les résidus ont globalement des valeurs comprises entre -1 et 1. Juste quelques valeurs (outliers) sortent de cet intervalle de -1 et 1. La figure residuals vs educ montre une possible tendance explosive entre educ et les résidus."
   ]
  },
  {
   "cell_type": "markdown",
   "metadata": {},
   "source": [
    "## Détection de l'hétéroscédasticité à partir de la régression des résidus au carré sur les autres variables explicatives"
   ]
  },
  {
   "cell_type": "markdown",
   "metadata": {},
   "source": [
    "## Procédure:\n",
    "\n",
    "On récupère les résidus u issus de l'estimation de l'équation suivante:\n",
    "\n",
    "$ \\large y = \\beta_{0}  + \\beta_{1} city + \\beta_{2} educ + \\beta_{3} exper + \\beta_{4} nwifeinc + \\beta_{5} kidslt6 + \\beta_{6} kidsge6$\n",
    "\n",
    "On estime une nouvelle équation avec les résidus élevés au carré comme étant la variable expliquée\n",
    "\n",
    "$ \\large u² = \\beta_{0}  + \\beta_{1} city + \\beta_{2} educ + \\beta_{3} exper + \\beta_{4} nwifeinc + \\beta_{5} kidslt6 + \\beta_{6} kidsge6$\n",
    "\n",
    "\n",
    "## Test\n",
    "\n",
    "$\\large H_0 : \\beta_{1} = \\beta_{2} = \\beta_{3} = \\beta_{4} = \\beta_{5} = \\beta_{6} = 0$ (Homoscédasticité)\n"
   ]
  },
  {
   "cell_type": "code",
   "execution_count": 38,
   "metadata": {},
   "outputs": [
    {
     "name": "stdout",
     "output_type": "stream",
     "text": [
      "                            OLS Regression Results                            \n",
      "==============================================================================\n",
      "Dep. Variable:                      y   R-squared:                       0.028\n",
      "Model:                            OLS   Adj. R-squared:                  0.014\n",
      "Method:                 Least Squares   F-statistic:                     2.009\n",
      "Date:                Sun, 12 Apr 2020   Prob (F-statistic):             0.0633\n",
      "Time:                        21:35:58   Log-Likelihood:                -622.39\n",
      "No. Observations:                 428   AIC:                             1259.\n",
      "Df Residuals:                     421   BIC:                             1287.\n",
      "Df Model:                           6                                         \n",
      "Covariance Type:            nonrobust                                         \n",
      "==============================================================================\n",
      "                 coef    std err          t      P>|t|      [0.025      0.975]\n",
      "------------------------------------------------------------------------------\n",
      "const          0.4519      0.323      1.398      0.163      -0.183       1.087\n",
      "city           0.0967      0.110      0.883      0.378      -0.119       0.312\n",
      "educ           0.0126      0.024      0.536      0.593      -0.034       0.059\n",
      "exper         -0.0170      0.007     -2.423      0.016      -0.031      -0.003\n",
      "nwifeinc      -0.0036      0.005     -0.683      0.495      -0.014       0.007\n",
      "kidslt6        0.1279      0.133      0.960      0.337      -0.134       0.390\n",
      "kidsge6        0.0278      0.042      0.661      0.509      -0.055       0.110\n",
      "==============================================================================\n",
      "Omnibus:                      454.545   Durbin-Watson:                   1.642\n",
      "Prob(Omnibus):                  0.000   Jarque-Bera (JB):            16789.400\n",
      "Skew:                           4.875   Prob(JB):                         0.00\n",
      "Kurtosis:                      32.093   Cond. No.                         178.\n",
      "==============================================================================\n",
      "\n",
      "Warnings:\n",
      "[1] Standard Errors assume that the covariance matrix of the errors is correctly specified.\n"
     ]
    }
   ],
   "source": [
    "cols = ['city', 'educ', 'exper', 'nwifeinc', 'kidslt6', 'kidsge6']\n",
    "X = data1[cols]\n",
    "Y = data1.lwage\n",
    "\n",
    "model = sm.OLS(Y, sm.add_constant(X))\n",
    "results = model.fit()\n",
    "u = results.resid\n",
    "y = u**2\n",
    "\n",
    "model_ = sm.OLS(y, sm.add_constant(X))\n",
    "results_ = model_.fit()\n",
    "print(results_.summary())"
   ]
  },
  {
   "cell_type": "markdown",
   "metadata": {},
   "source": [
    "La statisque F est de 2.009 et la p valeur associée est 0.0633. "
   ]
  },
  {
   "cell_type": "markdown",
   "metadata": {},
   "source": [
    "Cette p valeur est supérieure au seuil critique 0.05. On ne rejette pas l'hypothèse $\\large H_0$. Donc il y a homoscédasticité."
   ]
  },
  {
   "cell_type": "markdown",
   "metadata": {},
   "source": [
    "Mais d'après l'analyse graphique, la variable educ esquisse une tendance explosive avec le residu. Nous allons la transformer en log, corriger les écarts types selon la méthode vue en cours et refaire le test d'homoscédasticité."
   ]
  },
  {
   "cell_type": "markdown",
   "metadata": {},
   "source": [
    "### Transformation de la variable educ en log, pondérations et correction d'écart type"
   ]
  },
  {
   "cell_type": "code",
   "execution_count": 39,
   "metadata": {},
   "outputs": [
    {
     "name": "stdout",
     "output_type": "stream",
     "text": [
      "                            WLS Regression Results                            \n",
      "==============================================================================\n",
      "Dep. Variable:                  lwage   R-squared:                       0.147\n",
      "Model:                            WLS   Adj. R-squared:                  0.135\n",
      "Method:                 Least Squares   F-statistic:                     12.08\n",
      "Date:                Sun, 12 Apr 2020   Prob (F-statistic):           1.55e-12\n",
      "Time:                        21:35:59   Log-Likelihood:                -434.12\n",
      "No. Observations:                 428   AIC:                             882.2\n",
      "Df Residuals:                     421   BIC:                             910.6\n",
      "Df Model:                           6                                         \n",
      "Covariance Type:            nonrobust                                         \n",
      "==============================================================================\n",
      "                 coef    std err          t      P>|t|      [0.025      0.975]\n",
      "------------------------------------------------------------------------------\n",
      "const         -2.0651      0.456     -4.527      0.000      -2.962      -1.168\n",
      "city           0.0351      0.071      0.497      0.619      -0.104       0.174\n",
      "leduc          1.1703      0.183      6.409      0.000       0.811       1.529\n",
      "exper          0.0155      0.005      3.439      0.001       0.007       0.024\n",
      "nwifeinc       0.0056      0.003      1.681      0.093      -0.001       0.012\n",
      "kidslt6       -0.0364      0.086     -0.424      0.671      -0.205       0.132\n",
      "kidsge6       -0.0156      0.027     -0.577      0.564      -0.069       0.038\n",
      "==============================================================================\n",
      "Omnibus:                       77.516   Durbin-Watson:                   1.979\n",
      "Prob(Omnibus):                  0.000   Jarque-Bera (JB):              269.081\n",
      "Skew:                          -0.786   Prob(JB):                     3.71e-59\n",
      "Kurtosis:                       6.552   Cond. No.                         376.\n",
      "==============================================================================\n",
      "\n",
      "Warnings:\n",
      "[1] Standard Errors assume that the covariance matrix of the errors is correctly specified.\n",
      "                            OLS Regression Results                            \n",
      "==============================================================================\n",
      "Dep. Variable:                      y   R-squared:                       0.029\n",
      "Model:                            OLS   Adj. R-squared:                  0.015\n",
      "Method:                 Least Squares   F-statistic:                     2.073\n",
      "Date:                Sun, 12 Apr 2020   Prob (F-statistic):             0.0552\n",
      "Time:                        21:35:59   Log-Likelihood:                -621.53\n",
      "No. Observations:                 428   AIC:                             1257.\n",
      "Df Residuals:                     421   BIC:                             1285.\n",
      "Df Model:                           6                                         \n",
      "Covariance Type:            nonrobust                                         \n",
      "==============================================================================\n",
      "                 coef    std err          t      P>|t|      [0.025      0.975]\n",
      "------------------------------------------------------------------------------\n",
      "const          0.1686      0.707      0.238      0.812      -1.221       1.558\n",
      "city           0.0920      0.109      0.842      0.400      -0.123       0.307\n",
      "leduc          0.1814      0.283      0.641      0.522      -0.375       0.738\n",
      "exper         -0.0173      0.007     -2.470      0.014      -0.031      -0.004\n",
      "nwifeinc      -0.0036      0.005     -0.699      0.485      -0.014       0.007\n",
      "kidslt6        0.1313      0.133      0.990      0.323      -0.129       0.392\n",
      "kidsge6        0.0261      0.042      0.623      0.533      -0.056       0.108\n",
      "==============================================================================\n",
      "Omnibus:                      455.079   Durbin-Watson:                   1.648\n",
      "Prob(Omnibus):                  0.000   Jarque-Bera (JB):            17082.778\n",
      "Skew:                           4.876   Prob(JB):                         0.00\n",
      "Kurtosis:                      32.373   Cond. No.                         376.\n",
      "==============================================================================\n",
      "\n",
      "Warnings:\n",
      "[1] Standard Errors assume that the covariance matrix of the errors is correctly specified.\n"
     ]
    }
   ],
   "source": [
    "data1['leduc'] = np.log(data1.educ)\n",
    "cols = ['city', 'leduc', 'exper','nwifeinc', 'kidslt6', 'kidsge6']\n",
    "X = data1[cols]\n",
    "Y = data1.lwage\n",
    "\n",
    "h=np.sqrt(data1.leduc)\n",
    "model = sm.WLS(Y, sm.add_constant(X),weight=1/h)\n",
    "results = model.fit()\n",
    "u = results.resid\n",
    "y = u**2\n",
    "\n",
    "model_ = sm.OLS(y, sm.add_constant(X))\n",
    "results_ = model_.fit()\n",
    "\n",
    "print(results.summary())\n",
    "print(results_.summary())"
   ]
  },
  {
   "cell_type": "markdown",
   "metadata": {},
   "source": [
    "Les écarts type ont bien changé dans les résultats du tableau 1\n",
    "\n",
    "Dans les résultats du 1er tableau, la statistique de Fisher F est de 12.08 et la p valeur associée est de 1.55e-12. Ceci signifie que les coefficients sont globalement siginificatif.  Autrement dit, on rejette l'hypothèse H0 que tous les coefficients estimés sont statistiquement et conjointement nuls. Il y a donc bien des coefficients qui sont significatifs.\n",
    "\n",
    "Dans les résultats du 2nd tableau où on estime le terme d'erreur u élevé au carré sur les autres variables explicatives, la statisque F est de 2.073 et la p valeur associée est 0.0552. Cette p valeur est supérieure au seuil critique 0.05. Donc on ne rejette pas l'hypothèse HO. il y a homoscedasticité. Globalement, tous les coefficients sont nuls c'est à dire qu'ils n'expliquent pas les résidus élevés au carré. On est donc dans un cas de figure d'absence d'hétéroscédasticité.\n",
    "\n",
    "Notons que notre méthode a augmenté l'hétéroscédasticité par rapport au modèle précedement estimé car la p valeur s'est améliorée."
   ]
  },
  {
   "cell_type": "markdown",
   "metadata": {},
   "source": [
    "## Nouvelle observation graphique"
   ]
  },
  {
   "cell_type": "code",
   "execution_count": 40,
   "metadata": {},
   "outputs": [
    {
     "data": {
      "image/png": "[encoded data removed]",
      "text/plain": [
       "<Figure size 720x576 with 4 Axes>"
      ]
     },
     "metadata": {},
     "output_type": "display_data"
    }
   ],
   "source": [
    "import matplotlib.pyplot as plt\n",
    "fig = plt.figure(num = 0, figsize = (10, 8))\n",
    "plot_opts = dict(linestyle = \"None\", marker = \"o\", color = \"black\", markerfacecolor = \"None\")\n",
    "_ = fig.add_subplot(2, 2, 1).plot(model_.fit().resid, **plot_opts)\n",
    "_ = plt.title(\"Residuals Plot\")\n",
    "_ = fig.add_subplot(2, 2, 2).plot(model_.fit().fittedvalues, model.fit().resid, **plot_opts)\n",
    "_ = plt.title(\"Residuals vs Fitted\")\n",
    "_ = fig.add_subplot(2, 2, 3).plot(data1.educ, model_.fit().resid, **plot_opts)\n",
    "_ = plt.title(\"Residuals vs $educ$\")\n",
    "_ = fig.add_subplot(2, 2, 4).plot(data1.exper, model_.fit().resid, **plot_opts)\n",
    "_ = plt.title(\"Residuals vs $exper$\")\n",
    "_ = plt.tight_layout()\n",
    "plt.show()"
   ]
  },
  {
   "cell_type": "markdown",
   "metadata": {},
   "source": [
    "## Commentaire:\n",
    "\n",
    "L'observation de la figure \"Residuals plot\" montre qu'il y a une tendance plus prononcée des valeurs de résidus autour de la valeur zéro. La figure residuals vs educ montre que la tendance explosive de la relation educ et residu s'est reduite considérablement autour de la valeur zéro. "
   ]
  },
  {
   "cell_type": "markdown",
   "metadata": {},
   "source": [
    "\n",
    "## <span style='color:rgb(102, 51, 0)'>  15. Tester le changement de structure de la question 8 entre les femmes qui ont plus de 43 ans et les autres : test sur l'ensemble des coefficients. Donnez les p-valeurs </span>"
   ]
  },
  {
   "cell_type": "markdown",
   "metadata": {},
   "source": [
    "### Modèle général"
   ]
  },
  {
   "cell_type": "code",
   "execution_count": 41,
   "metadata": {},
   "outputs": [
    {
     "name": "stdout",
     "output_type": "stream",
     "text": [
      "                            OLS Regression Results                            \n",
      "==============================================================================\n",
      "Dep. Variable:                  lwage   R-squared:                       0.156\n",
      "Model:                            OLS   Adj. R-squared:                  0.144\n",
      "Method:                 Least Squares   F-statistic:                     12.92\n",
      "Date:                Sun, 12 Apr 2020   Prob (F-statistic):           2.00e-13\n",
      "Time:                        21:36:01   Log-Likelihood:                -431.92\n",
      "No. Observations:                 428   AIC:                             877.8\n",
      "Df Residuals:                     421   BIC:                             906.3\n",
      "Df Model:                           6                                         \n",
      "Covariance Type:            nonrobust                                         \n",
      "==============================================================================\n",
      "                 coef    std err          t      P>|t|      [0.025      0.975]\n",
      "------------------------------------------------------------------------------\n",
      "const         -0.3990      0.207     -1.927      0.055      -0.806       0.008\n",
      "city           0.0353      0.070      0.503      0.616      -0.103       0.173\n",
      "educ           0.1022      0.015      6.771      0.000       0.073       0.132\n",
      "exper          0.0155      0.004      3.452      0.001       0.007       0.024\n",
      "nwifeinc       0.0049      0.003      1.466      0.143      -0.002       0.011\n",
      "kidslt6       -0.0453      0.085     -0.531      0.596      -0.213       0.122\n",
      "kidsge6       -0.0117      0.027     -0.434      0.664      -0.065       0.041\n",
      "==============================================================================\n",
      "Omnibus:                       79.542   Durbin-Watson:                   1.979\n",
      "Prob(Omnibus):                  0.000   Jarque-Bera (JB):              287.193\n",
      "Skew:                          -0.795   Prob(JB):                     4.33e-63\n",
      "Kurtosis:                       6.685   Cond. No.                         178.\n",
      "==============================================================================\n",
      "\n",
      "Warnings:\n",
      "[1] Standard Errors assume that the covariance matrix of the errors is correctly specified.\n",
      "188.58998019263947\n"
     ]
    }
   ],
   "source": [
    "cols = ['city', 'educ', 'exper', 'nwifeinc', 'kidslt6', 'kidsge6']\n",
    "X = data1[cols]\n",
    "Y = data1.lwage\n",
    "model = sm.OLS(Y, sm.add_constant(X))\n",
    "results = model.fit()\n",
    "SCR_G = ((results.resid)**2).sum()\n",
    "\n",
    "print(results.summary())\n",
    "print(SCR_G)"
   ]
  },
  {
   "cell_type": "markdown",
   "metadata": {},
   "source": [
    "### Modèle1 partiel (modele_high_43)"
   ]
  },
  {
   "cell_type": "code",
   "execution_count": 42,
   "metadata": {},
   "outputs": [
    {
     "name": "stdout",
     "output_type": "stream",
     "text": [
      "                            OLS Regression Results                            \n",
      "==============================================================================\n",
      "Dep. Variable:                  lwage   R-squared:                       0.166\n",
      "Model:                            OLS   Adj. R-squared:                  0.138\n",
      "Method:                 Least Squares   F-statistic:                     5.925\n",
      "Date:                Sun, 12 Apr 2020   Prob (F-statistic):           1.15e-05\n",
      "Time:                        21:36:02   Log-Likelihood:                -179.89\n",
      "No. Observations:                 186   AIC:                             373.8\n",
      "Df Residuals:                     179   BIC:                             396.4\n",
      "Df Model:                           6                                         \n",
      "Covariance Type:            nonrobust                                         \n",
      "==============================================================================\n",
      "                 coef    std err          t      P>|t|      [0.025      0.975]\n",
      "------------------------------------------------------------------------------\n",
      "const         -0.3232      0.276     -1.173      0.242      -0.867       0.221\n",
      "city          -0.0188      0.110     -0.171      0.865      -0.236       0.199\n",
      "educ           0.0853      0.020      4.228      0.000       0.045       0.125\n",
      "exper          0.0178      0.006      3.047      0.003       0.006       0.029\n",
      "nwifeinc       0.0093      0.005      1.957      0.052   -7.71e-05       0.019\n",
      "kidslt6       -0.0091      0.332     -0.027      0.978      -0.664       0.646\n",
      "kidsge6       -0.0249      0.051     -0.487      0.627      -0.126       0.076\n",
      "==============================================================================\n",
      "Omnibus:                       37.611   Durbin-Watson:                   2.352\n",
      "Prob(Omnibus):                  0.000   Jarque-Bera (JB):              114.134\n",
      "Skew:                          -0.787   Prob(JB):                     1.64e-25\n",
      "Kurtosis:                       6.500   Cond. No.                         212.\n",
      "==============================================================================\n",
      "\n",
      "Warnings:\n",
      "[1] Standard Errors assume that the covariance matrix of the errors is correctly specified.\n",
      "75.34817069662802\n"
     ]
    }
   ],
   "source": [
    "data_high_43 = data1[data1.age > 43] \n",
    "data_high_43.reset_index()\n",
    "\n",
    "cols = ['city', 'educ', 'exper', 'nwifeinc', 'kidslt6', 'kidsge6']\n",
    "X = data_high_43[cols]\n",
    "Y = data_high_43.lwage\n",
    "model = sm.OLS(Y, sm.add_constant(X))\n",
    "\n",
    "results = model.fit()\n",
    "SCR_high43 = ((results.resid)**2).sum()\n",
    "\n",
    "print(results.summary())\n",
    "print(SCR_high43)"
   ]
  },
  {
   "cell_type": "markdown",
   "metadata": {},
   "source": [
    "### Modèle2 partiel (modele_inf_43)"
   ]
  },
  {
   "cell_type": "code",
   "execution_count": 43,
   "metadata": {},
   "outputs": [
    {
     "name": "stdout",
     "output_type": "stream",
     "text": [
      "                            OLS Regression Results                            \n",
      "==============================================================================\n",
      "Dep. Variable:                  lwage   R-squared:                       0.168\n",
      "Model:                            OLS   Adj. R-squared:                  0.146\n",
      "Method:                 Least Squares   F-statistic:                     7.888\n",
      "Date:                Sun, 12 Apr 2020   Prob (F-statistic):           9.37e-08\n",
      "Time:                        21:36:02   Log-Likelihood:                -248.69\n",
      "No. Observations:                 242   AIC:                             511.4\n",
      "Df Residuals:                     235   BIC:                             535.8\n",
      "Df Model:                           6                                         \n",
      "Covariance Type:            nonrobust                                         \n",
      "==============================================================================\n",
      "                 coef    std err          t      P>|t|      [0.025      0.975]\n",
      "------------------------------------------------------------------------------\n",
      "const         -0.5412      0.318     -1.702      0.090      -1.168       0.085\n",
      "city           0.0850      0.092      0.920      0.358      -0.097       0.267\n",
      "educ           0.1167      0.023      5.038      0.000       0.071       0.162\n",
      "exper          0.0202      0.008      2.540      0.012       0.005       0.036\n",
      "nwifeinc       0.0026      0.005      0.526      0.599      -0.007       0.012\n",
      "kidslt6       -0.0933      0.094     -0.994      0.321      -0.278       0.092\n",
      "kidsge6       -0.0233      0.036     -0.643      0.521      -0.095       0.048\n",
      "==============================================================================\n",
      "Omnibus:                       42.575   Durbin-Watson:                   1.807\n",
      "Prob(Omnibus):                  0.000   Jarque-Bera (JB):              145.224\n",
      "Skew:                          -0.684   Prob(JB):                     2.92e-32\n",
      "Kurtosis:                       6.540   Cond. No.                         186.\n",
      "==============================================================================\n",
      "\n",
      "Warnings:\n",
      "[1] Standard Errors assume that the covariance matrix of the errors is correctly specified.\n",
      "110.64408956216036\n"
     ]
    }
   ],
   "source": [
    "data_inf_43 = data1[data1.age <= 43] \n",
    "data_inf_43.reset_index()\n",
    "\n",
    "cols = ['city', 'educ', 'exper', 'nwifeinc', 'kidslt6', 'kidsge6']\n",
    "X = data_inf_43[cols]\n",
    "Y = data_inf_43.lwage\n",
    "model = sm.OLS(Y, sm.add_constant(X))\n",
    "\n",
    "results = model.fit()\n",
    "SCR_inf43 = ((results.resid)**2).sum()\n",
    "\n",
    "print(results.summary())\n",
    "print(SCR_inf43)"
   ]
  },
  {
   "cell_type": "markdown",
   "metadata": {},
   "source": [
    "### Test de CHOW\n",
    "\n",
    "$\\large H_0 :$ Pas de changements structurels importants"
   ]
  },
  {
   "cell_type": "markdown",
   "metadata": {},
   "source": [
    "La statistique du test de Chow est donnée par:\n",
    "\n",
    "CHOW_F_static :  $\\Large \\frac { \\frac{SCR_{G} - (SCR_{high43} + SCR_{inf43})}{7} }{ \\frac{(SCR_{high43} + SCR_{inf43})}{428 - 2*7} } $         "
   ]
  },
  {
   "cell_type": "markdown",
   "metadata": {},
   "source": [
    "Application numérique: $\\Large \\frac { \\frac{188.59 - (75.348 + 110.644)}{7} }{ \\frac{75.348 + 110.644}{428 - 2*7} } = \\frac{0.371}{0.45} = 0.826 $ "
   ]
  },
  {
   "cell_type": "code",
   "execution_count": 44,
   "metadata": {},
   "outputs": [
    {
     "name": "stdout",
     "output_type": "stream",
     "text": [
      "La p valeur associée à cette statistique est:.0.5660673595906032\n"
     ]
    }
   ],
   "source": [
    "F = 0.826\n",
    "k = 7\n",
    "n = 428\n",
    "p = n-2*k\n",
    "print('La p valeur associée à cette statistique est:.{}'.format(f.sf(F,k, p)))"
   ]
  },
  {
   "cell_type": "markdown",
   "metadata": {},
   "source": [
    "### Commentaire:\n",
    "Cette p valeur est supérieure au seuil de significativité de 5%. On ne rejette pas l'hypothèse H0. On conclut qu'il n'y a pas de changements structurels entre les groupes de femmes de plus de 43 ans et les autres."
   ]
  },
  {
   "cell_type": "markdown",
   "metadata": {},
   "source": [
    "## <span style='color:rgb(102, 51, 0)'>  16. Ajouter au modèle de la question 7 la variable huseduc. Faire ensuite la même régression en décomposant la variable huseduc en 4 variables binaires construites selon votre choix. Faire le test de non significativité de l’ensemble des variables binaires. Donnez les p-valeurs et commentez. </span>"
   ]
  },
  {
   "cell_type": "markdown",
   "metadata": {},
   "source": [
    "### Transformation de la variable huseduc en variables binaires"
   ]
  },
  {
   "cell_type": "code",
   "execution_count": 45,
   "metadata": {},
   "outputs": [],
   "source": [
    "data1['dummy1'] = np.where(data1.huseduc < 7, 1, 0)\n",
    "data1['dummy2'] = np.where(data1.huseduc.isin([7, 8, 9, 10]), 1, 0)\n",
    "data1['dummy3'] = np.where(data1.huseduc.isin([11, 12, 13, 14]), 1, 0)\n",
    "data1['dummy4'] = np.where(data1.huseduc.isin([15, 16, 17]), 1, 0)"
   ]
  },
  {
   "cell_type": "markdown",
   "metadata": {},
   "source": [
    "### Estimation du modèle"
   ]
  },
  {
   "cell_type": "code",
   "execution_count": 46,
   "metadata": {},
   "outputs": [
    {
     "name": "stdout",
     "output_type": "stream",
     "text": [
      "                            OLS Regression Results                            \n",
      "==============================================================================\n",
      "Dep. Variable:                  lwage   R-squared:                       0.161\n",
      "Model:                            OLS   Adj. R-squared:                  0.141\n",
      "Method:                 Least Squares   F-statistic:                     8.018\n",
      "Date:                Sun, 12 Apr 2020   Prob (F-statistic):           7.36e-12\n",
      "Time:                        21:36:04   Log-Likelihood:                -430.47\n",
      "No. Observations:                 428   AIC:                             882.9\n",
      "Df Residuals:                     417   BIC:                             927.6\n",
      "Df Model:                          10                                         \n",
      "Covariance Type:            nonrobust                                         \n",
      "==============================================================================\n",
      "                 coef    std err          t      P>|t|      [0.025      0.975]\n",
      "------------------------------------------------------------------------------\n",
      "const         -0.2397      0.351     -0.684      0.494      -0.929       0.449\n",
      "city           0.0515      0.071      0.722      0.471      -0.089       0.192\n",
      "educ           0.1178      0.018      6.510      0.000       0.082       0.153\n",
      "exper          0.0152      0.005      3.381      0.001       0.006       0.024\n",
      "nwifeinc       0.0060      0.003      1.742      0.082      -0.001       0.013\n",
      "kidslt6       -0.0344      0.086     -0.401      0.689      -0.203       0.134\n",
      "kidsge6       -0.0113      0.027     -0.413      0.680      -0.065       0.042\n",
      "huseduc       -0.0286      0.040     -0.713      0.477      -0.108       0.050\n",
      "dummy1        -0.1280      0.224     -0.572      0.567      -0.567       0.312\n",
      "dummy2        -0.0947      0.082     -1.153      0.249      -0.256       0.067\n",
      "dummy3         0.0033      0.161      0.020      0.984      -0.312       0.319\n",
      "dummy4        -0.0203      0.314     -0.065      0.948      -0.637       0.596\n",
      "==============================================================================\n",
      "Omnibus:                       82.759   Durbin-Watson:                   1.979\n",
      "Prob(Omnibus):                  0.000   Jarque-Bera (JB):              305.431\n",
      "Skew:                          -0.822   Prob(JB):                     4.75e-67\n",
      "Kurtosis:                       6.798   Cond. No.                     9.49e+16\n",
      "==============================================================================\n",
      "\n",
      "Warnings:\n",
      "[1] Standard Errors assume that the covariance matrix of the errors is correctly specified.\n",
      "[2] The smallest eigenvalue is 4.37e-29. This might indicate that there are\n",
      "strong multicollinearity problems or that the design matrix is singular.\n",
      "187.3125720765432\n"
     ]
    }
   ],
   "source": [
    "cols = ['city', 'educ', 'exper', 'nwifeinc', 'kidslt6', 'kidsge6','huseduc', 'dummy1', 'dummy2', 'dummy3', 'dummy4']\n",
    "X = data1[cols]\n",
    "Y = data1.lwage\n",
    "model = sm.OLS(Y, sm.add_constant(X))\n",
    "results = model.fit()\n",
    "print(results.summary())\n",
    "\n",
    "u = results.resid\n",
    "SSR = u.T@u\n",
    "print(SSR)"
   ]
  },
  {
   "cell_type": "markdown",
   "metadata": {},
   "source": [
    "### Test de non significativité de l’ensemble des variables binaires"
   ]
  },
  {
   "cell_type": "markdown",
   "metadata": {},
   "source": [
    "### Modèle non contraint"
   ]
  },
  {
   "cell_type": "markdown",
   "metadata": {},
   "source": [
    "$ \\large y = \\beta_{0}  + \\beta_{1} city + \\beta_{2} educ + \\beta_{3} exper + \\beta_{4} nwifeinc + \\beta_{5} kidslt6 + \\beta_{6} kidsge6 + \\beta_{7} huseduc + \\beta_{8} dummy1 + \\beta_{9} dummy2 + \\beta_{10} dummy3 + \\beta_{11} dummy4$"
   ]
  },
  {
   "cell_type": "markdown",
   "metadata": {},
   "source": [
    "### Modèle contraint"
   ]
  },
  {
   "cell_type": "markdown",
   "metadata": {},
   "source": [
    "$ \\large y = \\beta_{0}  + \\beta_{1} city + \\beta_{2} educ + \\beta_{3} exper + \\beta_{4} nwifeinc + \\beta_{5} kidslt6 + \\beta_{6} kidsge6 + \\beta_{7} huseduc $"
   ]
  },
  {
   "cell_type": "markdown",
   "metadata": {},
   "source": [
    "### Test"
   ]
  },
  {
   "cell_type": "markdown",
   "metadata": {},
   "source": [
    "$\\large H_0 : \\beta_{8} = \\beta_{9} = \\beta_{10} = \\beta_{11} = 0$"
   ]
  },
  {
   "cell_type": "markdown",
   "metadata": {},
   "source": [
    "### Estimation du modèle contraint"
   ]
  },
  {
   "cell_type": "code",
   "execution_count": 47,
   "metadata": {},
   "outputs": [
    {
     "name": "stdout",
     "output_type": "stream",
     "text": [
      "                            OLS Regression Results                            \n",
      "==============================================================================\n",
      "Dep. Variable:                  lwage   R-squared:                       0.159\n",
      "Model:                            OLS   Adj. R-squared:                  0.145\n",
      "Method:                 Least Squares   F-statistic:                     11.37\n",
      "Date:                Sun, 12 Apr 2020   Prob (F-statistic):           3.14e-13\n",
      "Time:                        21:36:07   Log-Likelihood:                -430.96\n",
      "No. Observations:                 428   AIC:                             877.9\n",
      "Df Residuals:                     420   BIC:                             910.4\n",
      "Df Model:                           7                                         \n",
      "Covariance Type:            nonrobust                                         \n",
      "==============================================================================\n",
      "                 coef    std err          t      P>|t|      [0.025      0.975]\n",
      "------------------------------------------------------------------------------\n",
      "const         -0.3494      0.210     -1.664      0.097      -0.762       0.063\n",
      "city           0.0489      0.071      0.690      0.490      -0.090       0.188\n",
      "educ           0.1155      0.018      6.455      0.000       0.080       0.151\n",
      "exper          0.0152      0.004      3.381      0.001       0.006       0.024\n",
      "nwifeinc       0.0058      0.003      1.704      0.089      -0.001       0.012\n",
      "kidslt6       -0.0405      0.085     -0.475      0.635      -0.208       0.127\n",
      "kidsge6       -0.0116      0.027     -0.431      0.667      -0.065       0.041\n",
      "huseduc       -0.0190      0.014     -1.377      0.169      -0.046       0.008\n",
      "==============================================================================\n",
      "Omnibus:                       80.922   Durbin-Watson:                   1.985\n",
      "Prob(Omnibus):                  0.000   Jarque-Bera (JB):              293.288\n",
      "Skew:                          -0.808   Prob(JB):                     2.06e-64\n",
      "Kurtosis:                       6.719   Cond. No.                         197.\n",
      "==============================================================================\n",
      "\n",
      "Warnings:\n",
      "[1] Standard Errors assume that the covariance matrix of the errors is correctly specified.\n",
      "187.74229399675636\n"
     ]
    }
   ],
   "source": [
    "cols = ['city', 'educ', 'exper', 'nwifeinc', 'kidslt6', 'kidsge6','huseduc']\n",
    "X = data1[cols]\n",
    "Y = data1.lwage\n",
    "modelc = sm.OLS(Y, sm.add_constant(X))\n",
    "results = modelc.fit()\n",
    "print(results.summary())\n",
    "\n",
    "uc = results.resid\n",
    "SSRc = uc.T@uc\n",
    "print(SSRc)"
   ]
  },
  {
   "cell_type": "code",
   "execution_count": 48,
   "metadata": {},
   "outputs": [
    {
     "name": "stdout",
     "output_type": "stream",
     "text": [
      "La statistique du test de Fisher joint est:0.23859092428620082\n",
      "La p valeur associée à cette statistique est:0.9164581525898713\n"
     ]
    }
   ],
   "source": [
    "n = 428\n",
    "k = 12\n",
    "F=((SSRc-SSR)/4)/(SSR/(n-k))\n",
    "print('La statistique du test de Fisher joint est:{}'.format(F))\n",
    "pval = f.sf(F,4,n-k)\n",
    "print('La p valeur associée à cette statistique est:{}'.format(pval))"
   ]
  },
  {
   "cell_type": "markdown",
   "metadata": {},
   "source": [
    "La p valeur étant très élevée par rapport à 0.05, on ne rejette pas l'hypothèse H0"
   ]
  },
  {
   "cell_type": "markdown",
   "metadata": {},
   "source": [
    "Les dummies introduites ne sont donc pas statistiquement et conjointement différentes de 0."
   ]
  },
  {
   "cell_type": "code",
   "execution_count": null,
   "metadata": {},
   "outputs": [],
   "source": []
  },
  {
   "cell_type": "code",
   "execution_count": null,
   "metadata": {},
   "outputs": [],
   "source": []
  },
  {
   "cell_type": "code",
   "execution_count": null,
   "metadata": {},
   "outputs": [],
   "source": []
  }
 ],
 "metadata": {
  "kernelspec": {
   "display_name": "Python 3",
   "language": "python",
   "name": "python3"
  },
  "language_info": {
   "codemirror_mode": {
    "name": "ipython",
    "version": 3
   },
   "file_extension": ".py",
   "mimetype": "text/x-python",
   "name": "python",
   "nbconvert_exporter": "python",
   "pygments_lexer": "ipython3",
   "version": "3.7.4"
  }
 },
 "nbformat": 4,
 "nbformat_minor": 2
}
