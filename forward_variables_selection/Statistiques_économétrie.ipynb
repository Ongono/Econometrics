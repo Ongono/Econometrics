{
 "cells": [
  {
   "cell_type": "markdown",
   "metadata": {},
   "source": [
    "# How the forward Variable selection works ? \n",
    "### A simple example with linear regression model"
   ]
  },
  {
   "cell_type": "markdown",
   "metadata": {},
   "source": [
    "Forward variable selection is an iterative method in which we start with having no feature in the model. \n",
    "\n",
    "We apply the regression model and select the feature which is the most significant among the other ones. We compute the residual between the observed variable and its estimate. This residual becomes in next step the variable to be estimated. The process is repeated until the coefficient start to become non significant. Everyone can set its own criteria to stop the process."
   ]
  },
  {
   "cell_type": "markdown",
   "metadata": {},
   "source": [
    "## Illustration:"
   ]
  },
  {
   "cell_type": "markdown",
   "metadata": {},
   "source": [
    "Let's denote $\\Large Y$ the variable to be estimated and $\\Large X_{1}, X_{2},X_{3},X_{4}, X_{5}$ covariates."
   ]
  },
  {
   "cell_type": "markdown",
   "metadata": {},
   "source": [
    "## 1st step"
   ]
  },
  {
   "cell_type": "markdown",
   "metadata": {},
   "source": [
    "Estimates of five coefficients $ \\Large  \\theta_{1}, \\theta_{2}, \\theta_{3}, \\theta_{4}, \\theta_{5}$ from:\n",
    "\n",
    "$\\Large Y = \\theta_{1}X_{1}$ <br>\n",
    "$\\Large  Y = \\theta_{2}X_{2}$ <br> \n",
    "$\\Large  Y = \\theta_{3}X_{3}$ <br> \n",
    "$\\Large  Y = \\theta_{4}X_{4}$ <br> \n",
    "$\\Large  Y = \\theta_{5}X_{5}$ <br>\n",
    "\n",
    "We apply the simple test (t-student test in this case because we will perform a linear regression with OLS) for each $\\Large \\theta_{i}$ and retain the variable which is the most significant.\n",
    "\n",
    "Recall that the t-test is performed as follows:\n",
    "\n",
    "$\\Large H_{0}: \\theta_{i} = 0$ <br>\n",
    "$\\Large H_{1}: \\theta_{i} \\neq 0$\n",
    "\n",
    "\n",
    "t-student statistics is given by:     $\\Large \\frac{\\hat{\\theta}_{i} - \\theta_{i}}{\\hat{\\sigma}_{\\theta_{i}}} \\sim \\tau_{(n-1)} $ <br>\n",
    "\n",
    "$ \\Large n$ are observations, $ \\Large n-1$ degre of freedom and $\\Large \\tau$ the student distribution. $ \\Large \\hat{\\sigma}_{\\theta_{i}}$ is the estimated standard deviation. \n",
    "\n",
    "Let's suppose that $\\Large \\theta_{3}$ has the smallest p-value meaning that $ \\Large X_{3}$ is the most significant variable.\n",
    "\n",
    "We will compute the residual as follows:    $ \\Large residual = Y - \\hat{\\theta}_{3}X_{3} $"
   ]
  },
  {
   "cell_type": "markdown",
   "metadata": {},
   "source": [
    "## 2nd step:"
   ]
  },
  {
   "cell_type": "markdown",
   "metadata": {},
   "source": [
    "Estimates of fourth coefficients $ \\Large  \\beta_{1}, \\beta_{2}, \\beta_{4}, \\beta_{5}$ from:\n",
    "\n",
    "$ \\Large  residual = \\beta_{1}X_{1}$ <br>\n",
    "$ \\Large  residual = \\beta_{2}X_{2}$ <br> \n",
    "$ \\Large  residual = \\beta_{4}X_{4}$ <br> \n",
    "$ \\Large  residual = \\beta_{5}X_{5}$ <br>\n",
    "\n",
    "We will apply again a simple test (t-student test) for each  $\\Large \\beta_{i}$  and retain the variable which is the most significant."
   ]
  },
  {
   "cell_type": "markdown",
   "metadata": {},
   "source": [
    "If there are many covariates, the iteration could stop when covariate start to be non significant in explaining $\\Large Y$. (However, everyone can set its own criteria to stop iterate)."
   ]
  },
  {
   "cell_type": "markdown",
   "metadata": {},
   "source": [
    "## Application"
   ]
  },
  {
   "cell_type": "markdown",
   "metadata": {},
   "source": [
    "We're going to work on the python diabetes database. The initial database contains n = 442 patients and p = 10 covariates. The variable Y to be explained is a score corresponding to the evolution of the disease. For fun, a malicious robot contaminated the dataset by adding 200 inappropriate explanatory variables. Then, not content with having already perverted our dataset, he deliberately mixed the variables together at random. Of course, the robot then took care to erase all traces of his rogue act so that we do not know the relevant variables. The new database contains n = 442 patients and p = 210 covariates, denoted X. The last column is the variable to be explained. Will you be able to thwart this prankster's plans and find the relevant variables?"
   ]
  },
  {
   "cell_type": "code",
   "execution_count": 96,
   "metadata": {},
   "outputs": [],
   "source": [
    "import pandas as pd\n",
    "import numpy as np\n",
    "from sklearn.model_selection import train_test_split\n",
    "from scipy import stats\n",
    "import math as m\n",
    "from scipy.stats import t\n",
    "from sklearn import linear_model\n",
    "from numpy.linalg import inv"
   ]
  },
  {
   "cell_type": "code",
   "execution_count": 97,
   "metadata": {},
   "outputs": [],
   "source": [
    "data = pd.read_csv('https://bitbucket.org/portierf/shared_files/downloads/data_dm3.csv', header=None)\n",
    "\n",
    "# we specify the matrix of covariates x_data and the explained variable y_data\n",
    "y_data = data[210]\n",
    "x_data = data.loc[:, :209]"
   ]
  },
  {
   "cell_type": "markdown",
   "metadata": {},
   "source": [
    "### Méthodology to select variables following the forward selection approach"
   ]
  },
  {
   "cell_type": "code",
   "execution_count": 98,
   "metadata": {},
   "outputs": [],
   "source": [
    "def forward_selection(x, y, stop = 10):\n",
    "    n = x.shape[0] \n",
    "    p = x.shape[1]\n",
    "    v = np.ones(n)\n",
    "    x_aug = np.c_[v,x.to_numpy()]\n",
    "    \n",
    "    variables = []\n",
    "    p_value_list = []\n",
    "    t_stats_list = []\n",
    "    t_variable_list =[]\n",
    "    \n",
    "    for j in range(p + 1):\n",
    "        p_value =[]\n",
    "        residu = []\n",
    "        t_stats = []\n",
    "        t_variable = []\n",
    "        \n",
    "        for i in range(p + 1):\n",
    "            if i not in variables:\n",
    "                X = x_aug[:, i].reshape(-1,1)\n",
    "                regr = linear_model.LinearRegression(fit_intercept = True).fit(X, y)\n",
    "                y_pred = regr.predict(X)\n",
    "                res = y -  y_pred\n",
    "                residu.append(res)\n",
    "                sigma2 = res.std()                               # the error standard deviation\n",
    "                sigma_theta = sigma2 * np.sqrt(inv(X.T@X)[0,0])  # The corrected error standard deviation\n",
    "                t_statistique = abs(regr.coef_[0]) / sigma_theta\n",
    "                p_value_i = 2*(1-t.cdf(t_statistique, n-2))\n",
    "                p_value.append(p_value_i)\n",
    "                t_stats.append(t_statistique)\n",
    "                t_variable.append(i)\n",
    "                \n",
    "        idx_min = np.argsort(p_value)[0]\n",
    "        p_value_min = p_value[idx_min]\n",
    "        res_min = residu[idx_min]\n",
    "        y = res_min\n",
    "        t_stats_list.append(t_stats)\n",
    "        t_variable_list.append(t_variable)\n",
    "        \n",
    "        if p_value_min < stop:\n",
    "            variables.append(idx_min)\n",
    "            p_value_list.append(p_value_min)\n",
    "        else:\n",
    "            return pd.DataFrame({'variable': variables, 'p_value': p_value_list}, columns=['variable', 'p_value']), t_stats_list,t_variable_list\n",
    "    \n",
    "    return  pd.DataFrame({'variable': variables, 'p_value': p_value_list}, columns=['variable', 'p_value']), t_stats_list,t_variable_list"
   ]
  },
  {
   "cell_type": "code",
   "execution_count": 99,
   "metadata": {},
   "outputs": [],
   "source": [
    "df_variables , t_stat, t_variable = forward_selection(x_data, y_data)"
   ]
  },
  {
   "cell_type": "markdown",
   "metadata": {},
   "source": [
    "### The first 10 relevant variables are presented in table below:"
   ]
  },
  {
   "cell_type": "code",
   "execution_count": 106,
   "metadata": {},
   "outputs": [
    {
     "data": {
      "text/html": [
       "<div>\n",
       "<style scoped>\n",
       "    .dataframe tbody tr th:only-of-type {\n",
       "        vertical-align: middle;\n",
       "    }\n",
       "\n",
       "    .dataframe tbody tr th {\n",
       "        vertical-align: top;\n",
       "    }\n",
       "\n",
       "    .dataframe thead th {\n",
       "        text-align: right;\n",
       "    }\n",
       "</style>\n",
       "<table border=\"1\" class=\"dataframe\">\n",
       "  <thead>\n",
       "    <tr style=\"text-align: right;\">\n",
       "      <th></th>\n",
       "      <th>variable</th>\n",
       "      <th>p_value</th>\n",
       "    </tr>\n",
       "  </thead>\n",
       "  <tbody>\n",
       "    <tr>\n",
       "      <td>0</td>\n",
       "      <td>35</td>\n",
       "      <td>0.000000e+00</td>\n",
       "    </tr>\n",
       "    <tr>\n",
       "      <td>1</td>\n",
       "      <td>58</td>\n",
       "      <td>0.000000e+00</td>\n",
       "    </tr>\n",
       "    <tr>\n",
       "      <td>2</td>\n",
       "      <td>78</td>\n",
       "      <td>8.721544e-09</td>\n",
       "    </tr>\n",
       "    <tr>\n",
       "      <td>3</td>\n",
       "      <td>165</td>\n",
       "      <td>7.754549e-09</td>\n",
       "    </tr>\n",
       "    <tr>\n",
       "      <td>4</td>\n",
       "      <td>133</td>\n",
       "      <td>9.920123e-06</td>\n",
       "    </tr>\n",
       "    <tr>\n",
       "      <td>5</td>\n",
       "      <td>121</td>\n",
       "      <td>2.174377e-04</td>\n",
       "    </tr>\n",
       "    <tr>\n",
       "      <td>6</td>\n",
       "      <td>126</td>\n",
       "      <td>1.625240e-03</td>\n",
       "    </tr>\n",
       "    <tr>\n",
       "      <td>7</td>\n",
       "      <td>14</td>\n",
       "      <td>1.722812e-02</td>\n",
       "    </tr>\n",
       "    <tr>\n",
       "      <td>8</td>\n",
       "      <td>201</td>\n",
       "      <td>9.570498e-03</td>\n",
       "    </tr>\n",
       "    <tr>\n",
       "      <td>9</td>\n",
       "      <td>56</td>\n",
       "      <td>3.294146e-02</td>\n",
       "    </tr>\n",
       "  </tbody>\n",
       "</table>\n",
       "</div>"
      ],
      "text/plain": [
       "   variable       p_value\n",
       "0        35  0.000000e+00\n",
       "1        58  0.000000e+00\n",
       "2        78  8.721544e-09\n",
       "3       165  7.754549e-09\n",
       "4       133  9.920123e-06\n",
       "5       121  2.174377e-04\n",
       "6       126  1.625240e-03\n",
       "7        14  1.722812e-02\n",
       "8       201  9.570498e-03\n",
       "9        56  3.294146e-02"
      ]
     },
     "execution_count": 106,
     "metadata": {},
     "output_type": "execute_result"
    }
   ],
   "source": [
    "df_variables[0:10]"
   ]
  },
  {
   "cell_type": "code",
   "execution_count": null,
   "metadata": {},
   "outputs": [],
   "source": []
  },
  {
   "cell_type": "code",
   "execution_count": null,
   "metadata": {},
   "outputs": [],
   "source": []
  }
 ],
 "metadata": {
  "kernelspec": {
   "display_name": "Python 3",
   "language": "python",
   "name": "python3"
  },
  "language_info": {
   "codemirror_mode": {
    "name": "ipython",
    "version": 3
   },
   "file_extension": ".py",
   "mimetype": "text/x-python",
   "name": "python",
   "nbconvert_exporter": "python",
   "pygments_lexer": "ipython3",
   "version": "3.7.4"
  }
 },
 "nbformat": 4,
 "nbformat_minor": 2
}
